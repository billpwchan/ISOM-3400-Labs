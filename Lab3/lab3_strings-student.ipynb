{
 "cells": [
  {
   "cell_type": "markdown",
   "metadata": {
    "colab_type": "text",
    "id": "mfQvLCzQ5IQh"
   },
   "source": [
    "# Lab 3: String"
   ]
  },
  {
   "cell_type": "markdown",
   "metadata": {},
   "source": [
    "## Part 1: Using `help()` to check the usage of `print()`"
   ]
  },
  {
   "cell_type": "markdown",
   "metadata": {},
   "source": [
    "#### Task 1.1: Please type the commond in the following cell."
   ]
  },
  {
   "cell_type": "code",
   "execution_count": null,
   "metadata": {},
   "outputs": [],
   "source": []
  },
  {
   "cell_type": "markdown",
   "metadata": {},
   "source": [
    "#### What can you learn from the above result?"
   ]
  },
  {
   "cell_type": "markdown",
   "metadata": {},
   "source": [
    "#### Task 1.2 : Use `print()` to print out variables `text1`, `text2`, `text3` in the **same line**."
   ]
  },
  {
   "cell_type": "code",
   "execution_count": null,
   "metadata": {
    "colab": {
     "autoexec": {
      "startup": false,
      "wait_interval": 0
     }
    },
    "colab_type": "code",
    "id": "1bwzMtO441ja"
   },
   "outputs": [],
   "source": []
  },
  {
   "cell_type": "markdown",
   "metadata": {},
   "source": [
    "#### Task 1.3: Try to modify the argument `sep=\" \"`, so that the print out becomes:\n",
    "\n",
    "Text 1 content.!!!Text 2 content.!!!Text 3 content."
   ]
  },
  {
   "cell_type": "code",
   "execution_count": null,
   "metadata": {},
   "outputs": [],
   "source": []
  },
  {
   "cell_type": "markdown",
   "metadata": {},
   "source": [
    "## Part 2: Multiple line strings\n"
   ]
  },
  {
   "cell_type": "markdown",
   "metadata": {},
   "source": [
    "You can assign multiple lines of text to a variable using  `'''`. For example:\n",
    "\n",
    "'''  xxx<br>\n",
    "xxxxxx<br>\n",
    "xxxxxxxxx '''  (3 single quotes / 3 double quotes)\n",
    "\n",
    "#### Task 2.1: \n",
    "\n",
    "Please declare a string variable named `mulipleLineString` and assign the value of **\"abc....xyz\"**, **\"ABC....XYZ\"** and **\"0123..789\"** (1 value 1 line)"
   ]
  },
  {
   "cell_type": "code",
   "execution_count": null,
   "metadata": {
    "colab": {
     "autoexec": {
      "startup": false,
      "wait_interval": 0
     }
    },
    "colab_type": "code",
    "id": "gcQoeUARTMby"
   },
   "outputs": [],
   "source": []
  },
  {
   "cell_type": "markdown",
   "metadata": {},
   "source": [
    "## Part 3: Special Characters\n",
    "\n",
    "\n",
    "How do you print a new line (enter key), a tab or special character such as `\"` , `'`, `\\`?"
   ]
  },
  {
   "cell_type": "code",
   "execution_count": 5,
   "metadata": {
    "scrolled": true
   },
   "outputs": [
    {
     "name": "stdout",
     "output_type": "stream",
     "text": [
      "\n",
      "\n",
      "~\n",
      "~\n",
      "\t\n",
      "a\ta\n",
      "'\n",
      "\"\n",
      "\\\n",
      "\\\\\n"
     ]
    }
   ],
   "source": [
    "print(\"\\n\") # print newline\n",
    "print(\"~\\n~\") \n",
    "\n",
    "print(\"\\t\") # print a tab\n",
    "print(\"a\\ta\")\n",
    "\n",
    "print('\\'') # or print(\"'\") --> print '\n",
    "print(\"\\\"\") # or print('\"') --> print \"\n",
    "\n",
    "print(\"\\\\\") # print \\\n",
    "print(\"\\\\\\\\\") # print \\\\"
   ]
  },
  {
   "cell_type": "markdown",
   "metadata": {},
   "source": [
    "#### Task 3: Try to use ***ONE*** print function to print the following content:\n",
    "\n",
    "\n",
    "He's name is \"David\"<br>\n",
    "He is &nbsp;&nbsp;&nbsp;&nbsp;&nbsp;&nbsp;&nbsp;&nbsp;&nbsp;&nbsp;&nbsp;&nbsp;10 years old.<br>\n",
    "&nbsp;&nbsp;&nbsp;&nbsp;&nbsp;&nbsp;&nbsp;&nbsp;&nbsp;&nbsp;&nbsp;&nbsp;&nbsp;*↑ this is a tab space*"
   ]
  },
  {
   "cell_type": "code",
   "execution_count": null,
   "metadata": {},
   "outputs": [],
   "source": []
  },
  {
   "cell_type": "markdown",
   "metadata": {},
   "source": [
    "## Part 4: Repitition\n",
    "\n",
    "You may use * to repeat the strings.\n",
    "\n",
    "#### Task 4: Write a program which prints out \"Hello World\" repeatedly depending on the number of times that a user enters."
   ]
  },
  {
   "cell_type": "code",
   "execution_count": null,
   "metadata": {},
   "outputs": [],
   "source": []
  },
  {
   "cell_type": "markdown",
   "metadata": {},
   "source": [
    "## Part 5.1: String Formmating\n",
    "* The % operator is used to format a string inserting the value that comes after. \n",
    "* It relies on the string containing a format specifier that identifies where to insert the value. \n",
    "* The most common types of format specifiers are:\n",
    "\n",
    " * %s -> string\n",
    " * %d -> Integer\n",
    " * %f -> Float\n",
    " * %o -> Octal\n",
    " * %x -> Hexadecimal\n",
    " * %e -> exponential\n",
    "\n",
    "You can add a number after the % operater to fix the space size of the content e.g.:"
   ]
  },
  {
   "cell_type": "code",
   "execution_count": 29,
   "metadata": {},
   "outputs": [
    {
     "name": "stdout",
     "output_type": "stream",
     "text": [
      "~     Hello! World! \n"
     ]
    }
   ],
   "source": [
    "print(\"~%10s! %-2s! \" % (\"Hello\", \"World\"))\n",
    "# note that the whole word \"World\" is printed but not \"Wo\"\n"
   ]
  },
  {
   "cell_type": "markdown",
   "metadata": {},
   "source": [
    "For numbers, you can also set the number of decimal place e.g."
   ]
  },
  {
   "cell_type": "code",
   "execution_count": 20,
   "metadata": {},
   "outputs": [
    {
     "name": "stdout",
     "output_type": "stream",
     "text": [
      "I have $ 4500.10\n"
     ]
    }
   ],
   "source": [
    "print(\"I have $%8.2f\" % (4500.1))\n",
    "# The length of the output \" 4500.10\" is 8 which includes a \" \" (space), the \".\" character and the 2 decimal places."
   ]
  },
  {
   "cell_type": "markdown",
   "metadata": {},
   "source": [
    "#### Task 5: Try to use 3 `print()` lines with String Formmating to print the following table:"
   ]
  },
  {
   "cell_type": "code",
   "execution_count": 26,
   "metadata": {},
   "outputs": [],
   "source": [
    "# | Product             | Qty  |     Price |\n",
    "# | ------------------- | ---- | --------- |\n",
    "# | ProductName1        |    2 | $  234.50 |"
   ]
  },
  {
   "cell_type": "markdown",
   "metadata": {},
   "source": [
    "## Part 5.2: More about formatting\n",
    "\n",
    "From the line : `print(\"~%10s! %2s! \" % (\"Hello\", \"World\"))`, you can find that the first part in `()` &nbsp; `\"~%10s! %2s! \"` is a string, meaning the width **10** and **2** in the string can be modify to make it more flexible. For example:\n"
   ]
  },
  {
   "cell_type": "code",
   "execution_count": 1,
   "metadata": {},
   "outputs": [
    {
     "name": "stdout",
     "output_type": "stream",
     "text": [
      "~%10s! %2s! \n",
      "~     Hello! World! \n"
     ]
    }
   ],
   "source": [
    "width1 = 10\n",
    "width2 = 2\n",
    "formatting = \"~%\"+str(width1)+\"s! %\"+str(width2)+\"s! \"\n",
    "print(formatting)\n",
    "print(formatting % (\"Hello\", \"World\"))"
   ]
  },
  {
   "cell_type": "markdown",
   "metadata": {},
   "source": [
    "## Part 6: String Methods\n",
    "\n",
    "reference: <a>https://docs.python.org/3/library/stdtypes.html#str</a>"
   ]
  },
  {
   "cell_type": "code",
   "execution_count": 35,
   "metadata": {
    "scrolled": true
   },
   "outputs": [
    {
     "name": "stdout",
     "output_type": "stream",
     "text": [
      " 1) 3\n",
      " 2) 2\n",
      " 3) True\n",
      " 4) -1\n",
      " 5) False\n",
      " 6) ['Hello', 'World', '~']\n",
      " 7) Hello world ~\n",
      " 8) True\n",
      " 9) False\n",
      "10) False\n",
      "11) False\n",
      "12) True\n",
      "13) False\n",
      "14) True\n",
      "15) True\n",
      "16) False\n",
      "17) False\n",
      "18) True\n"
     ]
    }
   ],
   "source": [
    "print(\" 1)\", \"Hello World\".count(\"l\"))\n",
    "print(\" 2)\", \"Hello World\".find(\"l\"))\n",
    "print(\" 3)\", \"l\" in \"Hello World\")\n",
    "print(\" 4)\", \"Hello World\".find(\"k\"))\n",
    "print(\" 5)\", \"k\" in \"Hello World\")\n",
    "print(\" 6)\", \"Hello World ~\".split(\" \"))\n",
    "print(\" 7)\", \"Hello World ~\".capitalize())\n",
    "print(\" 8)\", \"qwertyuiop123456789\".isalnum())\n",
    "print(\" 9)\", \"qwertyuiop123456789.\".isalnum())\n",
    "print(\"10)\", \"qwertyuiop123456789 \".isalnum())\n",
    "print(\"11)\", \"Hello World ~\".islower())\n",
    "print(\"12)\", \"hello world ~\".islower())\n",
    "print(\"13)\", \"hello world ~\".isspace())\n",
    "print(\"14)\", \"     \".isspace())\n",
    "print(\"15)\", \"Hello World ~\".istitle())\n",
    "print(\"16)\", \"Hello world ~\".istitle())\n",
    "print(\"17)\", \"Hello World ~\".isupper())\n",
    "print(\"18)\", \"hello world ~\".upper().isupper())"
   ]
  },
  {
   "cell_type": "code",
   "execution_count": 1,
   "metadata": {},
   "outputs": [
    {
     "name": "stdout",
     "output_type": "stream",
     "text": [
      "19) 9\n",
      "    0123456789+\n",
      "    Hello World\n",
      "             ↑ \n",
      "20) Hello-World\n",
      "21) hELLO wORLD\n",
      "22) 00000000000000012345\n",
      "23) -0000000000000012345\n",
      "24) 00000000000000123456\n",
      "25) -----12345\n"
     ]
    }
   ],
   "source": [
    "# continue\n",
    "print(\"19)\", \"Hello World\".rfind(\"l\"))\n",
    "print(\"   \", \"0123456789+\")\n",
    "print(\"   \", \"Hello World\")\n",
    "print(\"   \", \"         ↑ \")\n",
    "print(\"20)\", \"Hello World\".replace(\" \", \"-\"))\n",
    "print(\"21)\", \"Hello World\".swapcase())\n",
    "print(\"22)\", \"12345\".zfill(20))\n",
    "print(\"23)\", \"-12345\".zfill(20))\n",
    "number = 123456\n",
    "print(\"24) %s\" % str(number).zfill(20))\n",
    "print(\"25)\", \"12345\".zfill(10).replace(\"0\",\"-\"))"
   ]
  },
  {
   "cell_type": "markdown",
   "metadata": {},
   "source": [
    "### Task 6"
   ]
  },
  {
   "cell_type": "markdown",
   "metadata": {},
   "source": [
    "Given `text = \"H1e1l1l1o W2o2r2l2d\"`, use ONE line (may include more than one string methods) to convert `\"H1e1l1l1o W2o2r2l2d\"` to `['H', 'e', 'l', 'l', 'o', 'W', 'o', 'r', 'l', 'd']`"
   ]
  },
  {
   "cell_type": "code",
   "execution_count": 32,
   "metadata": {},
   "outputs": [],
   "source": [
    "text = \"H1e1l1l1o W2o2r2l2d\"\n"
   ]
  },
  {
   "cell_type": "code",
   "execution_count": null,
   "metadata": {},
   "outputs": [],
   "source": []
  }
 ],
 "metadata": {
  "colab": {
   "collapsed_sections": [],
   "default_view": {},
   "name": "lab3_ strings.ipynb",
   "provenance": [],
   "version": "0.3.2",
   "views": {}
  },
  "kernelspec": {
   "display_name": "Python 3",
   "language": "python",
   "name": "python3"
  },
  "language_info": {
   "codemirror_mode": {
    "name": "ipython",
    "version": 3
   },
   "file_extension": ".py",
   "mimetype": "text/x-python",
   "name": "python",
   "nbconvert_exporter": "python",
   "pygments_lexer": "ipython3",
   "version": "3.6.5"
  }
 },
 "nbformat": 4,
 "nbformat_minor": 1
}
