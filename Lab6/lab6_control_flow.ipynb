{
 "cells": [
  {
   "cell_type": "markdown",
   "metadata": {
    "colab_type": "text",
    "id": "noD5LqlT9iAU"
   },
   "source": [
    "# Condition"
   ]
  },
  {
   "cell_type": "markdown",
   "metadata": {},
   "source": [
    "#### Task1 Input check (while loop)\n",
    "\n",
    "1. Use a while loop to check the value input by the user. If the value is greater than 100 or negative number, ask again until the program get a suitable input.\n",
    "\n"
   ]
  },
  {
   "cell_type": "code",
   "execution_count": null,
   "metadata": {
    "colab": {
     "autoexec": {
      "startup": false,
      "wait_interval": 0
     },
     "base_uri": "https://localhost:8080/",
     "height": 102
    },
    "colab_type": "code",
    "executionInfo": {
     "elapsed": 10897,
     "status": "ok",
     "timestamp": 1532632780834,
     "user": {
      "displayName": "wong kachau",
      "photoUrl": "https://lh3.googleusercontent.com/a/default-user=s128",
      "userId": "111717911065052376046"
     },
     "user_tz": -480
    },
    "id": "FCAtfqnQ9hup",
    "outputId": "6e147847-3f86-4ca2-f70c-73c6f6688fa9",
    "scrolled": true
   },
   "outputs": [],
   "source": [
    "# Task 1: while loop\n",
    "\n",
    "# The input part in task 1\n",
    "# Modify the following part to check the input is in the range 0 - 100\n",
    "\n",
    "\n",
    "\n"
   ]
  },
  {
   "cell_type": "markdown",
   "metadata": {},
   "source": [
    "#### Task2: Patterns (for loop)\n",
    "\n",
    "1. Use **ONE** for loop\n",
    "1. Print the following pattern:\n",
    "\n",
    "```\n",
    "@ * * @ * * @ * * @ \n",
    "* * @ * * @ * * @ * \n",
    "* @ * * @ * * @ * * \n",
    "@ * * @ * * @ * * @ \n",
    "* * @ * * @ * * @ * \n",
    "* @ * * @ * * @ * * \n",
    "@ * * @ * * @ * * @ \n",
    "* * @ * * @ * * @ * \n",
    "* @ * * @ * * @ * * \n",
    "@ * * @ * * @ * * @\n",
    "```\n",
    "\n",
    "- 10 symbols a row; 10 rows in total\n",
    "- for each row, index start from 0\n",
    "- if the index is a multiple of 3, `@`\n",
    "- otherwise, `*`"
   ]
  },
  {
   "cell_type": "code",
   "execution_count": null,
   "metadata": {
    "colab": {
     "autoexec": {
      "startup": false,
      "wait_interval": 0
     },
     "base_uri": "https://localhost:8080/",
     "height": 187
    },
    "colab_type": "code",
    "executionInfo": {
     "elapsed": 697,
     "status": "ok",
     "timestamp": 1532633780457,
     "user": {
      "displayName": "wong kachau",
      "photoUrl": "https://lh3.googleusercontent.com/a/default-user=s128",
      "userId": "111717911065052376046"
     },
     "user_tz": -480
    },
    "id": "KFlg92rbCJ3S",
    "outputId": "d0b7c77a-2f71-43e6-cbf0-8289c6a729f4",
    "scrolled": true
   },
   "outputs": [],
   "source": [
    "# Task 2: for loop\n",
    "\n",
    "# Write a for loop for an integer i in range(100)\n",
    "# print a \"@\" if i is a multiple of 3\n",
    "# print a \"*\" if it is not\n",
    "# only print 10 elements for a line\n",
    "# expected outcome:\n",
    "#@ * * @ * * @ * * @ \n",
    "#* * @ * * @ * * @ * \n",
    "#* @ * * @ * * @ * * \n",
    "#@ * * @ * * @ * * @ \n",
    "#* * @ * * @ * * @ * \n",
    "#* @ * * @ * * @ * * \n",
    "#@ * * @ * * @ * * @ \n",
    "#* * @ * * @ * * @ * \n",
    "#* @ * * @ * * @ * * \n",
    "#@ * * @ * * @ * * @ \n",
    "# Hints: you need to modify the \"end\" argument\n",
    "\n",
    "\n",
    "\n",
    "\n",
    "\n",
    "    "
   ]
  },
  {
   "cell_type": "markdown",
   "metadata": {},
   "source": [
    "#### Task 3: Odd/Even Count (for loop)\n",
    "\n",
    "1. You have a list/tuple of integers `numbers` (Create youself, any number of items, any values)\n",
    "1. Create 2 variable `count_odd` and `count_even` to store the final result\n",
    "1. Read the numbers in `numbers`, find the number of odd / even numbers in the list"
   ]
  },
  {
   "cell_type": "code",
   "execution_count": null,
   "metadata": {
    "colab": {
     "autoexec": {
      "startup": false,
      "wait_interval": 0
     }
    },
    "colab_type": "code",
    "id": "kF7VNuYPE--a"
   },
   "outputs": [],
   "source": [
    "# Task 3: for loop\n",
    "numbers = (1, 2, 3, 4, 5, 6, 7, 8, 9,) # Declaring the tuple\n",
    "count_odd = 0\n",
    "count_even = 0\n",
    "\n",
    "# Write a for loop to count the number of \n",
    "\n",
    "\n"
   ]
  },
  {
   "cell_type": "markdown",
   "metadata": {},
   "source": [
    "### Sorting\n",
    "\n",
    "Remember sorting of list in Lab 4? \n",
    "\n",
    "```\n",
    "# Task 4 sorting\n",
    "\n",
    "# idea: because it starts from smallest number, \n",
    "#       1) find the smallest number in list x, get the value, \n",
    "#       2) add it to a newList, \n",
    "#       3) remove the value from x\n",
    "#       repeat until no element in list x\n",
    "\n",
    "x = [2,3,5,1] # 4 elements\n",
    "newList = []\n",
    "\n",
    "# -----------------------------------\n",
    "minNum = min(x)          # step1\n",
    "newList.append(minNum)   # step2\n",
    "x.remove(minNum)         # step3\n",
    "\n",
    "#check result\n",
    "print(x)\n",
    "print(newList)\n",
    "print(\"1st time\")\n",
    "print()\n",
    "\n",
    "# -----------------------------------\n",
    "minNum = min(x)          # step1\n",
    "newList.append(minNum)   # step2\n",
    "x.remove(minNum)         # step3\n",
    "\n",
    "#check result\n",
    "print(x)\n",
    "print(newList)\n",
    "print(\"2nd time\")\n",
    "print()\n",
    "\n",
    "\n",
    "# -----------------------------------\n",
    "minNum = min(x)          # step1\n",
    "newList.append(minNum)   # step2\n",
    "x.remove(minNum)         # step3\n",
    "\n",
    "#check result\n",
    "print(x)\n",
    "print(newList)\n",
    "print(\"3rd time\")\n",
    "print()\n",
    "\n",
    "# -----------------------------------\n",
    "minNum = min(x)          # step1\n",
    "newList.append(minNum)   # step2\n",
    "x.remove(minNum)         # step3\n",
    "\n",
    "#check result\n",
    "print(x)\n",
    "print(newList)\n",
    "print(\"4th time\")\n",
    "print()\n",
    "\n",
    "\n",
    "print(\"Finally, set x = newList\")\n",
    "x = newList\n",
    "print(x)\n",
    "\n",
    "```\n"
   ]
  },
  {
   "cell_type": "code",
   "execution_count": null,
   "metadata": {},
   "outputs": [],
   "source": [
    "# the main parts are here:\n",
    "\n",
    "x = [2,3,5,1] # 4 elements\n",
    "newList = []\n",
    "\n",
    "# The repeated part start:\n",
    "# -----------------------------------\n",
    "minNum = min(x)          # step1\n",
    "newList.append(minNum)   # step2\n",
    "x.remove(minNum)         # step3\n",
    "\n",
    "#check result\n",
    "print(\"Round x\")\n",
    "print(x)\n",
    "print(newList)\n",
    "print()\n",
    "\n",
    "# The repeated part end.\n",
    "\n",
    "\n",
    "print(\"Finally, set x = newList\")\n",
    "x = newList\n",
    "print(x)"
   ]
  },
  {
   "cell_type": "code",
   "execution_count": null,
   "metadata": {},
   "outputs": [],
   "source": [
    "# Task 4\n",
    "# Modify the above code using (any) loop to achieve the same thing.\n",
    "\n"
   ]
  },
  {
   "cell_type": "markdown",
   "metadata": {},
   "source": [
    "### Cinema seating plan\n",
    "```\n",
    "seats = [\n",
    "    [\"A\", \"1\", \"2\", \"3\", \"4\", \"5\", \"6\", \"7\"],\n",
    "    [\"B\", \"1\", \"2\", \"3\", \"x\", \"x\", \"6\", \"7\"],\n",
    "    [\"C\", \"x\", \"x\", \"3\", \"4\", \"5\", \"6\", \"7\"],\n",
    "    [\"D\", \"1\", \"2\", \"x\", \"x\", \"x\", \"x\", \"x\"]\n",
    "]\n",
    "\n",
    "# Use String formmating and the above seats list to the following content:\n",
    "\n",
    "#   [           Screen          ]\n",
    "#\n",
    "# A [1][2]    [3][4][5]    [6][7]\n",
    "# B [1][2]    [3][x][x]    [6][7]\n",
    "# C [x][x]    [3][4][5]    [6][7]\n",
    "# D [1][2]    [x][x][x]    [x][x]\n",
    "\n",
    "print(\" [%s]\"% \"Screen\".center(27))\n",
    "print()\n",
    "print(\"%s [%s][%s]    [%s][%s][%s]    [%s][%s]\"%tuple(seats[0]))\n",
    "print(\"%s [%s][%s]    [%s][%s][%s]    [%s][%s]\"%tuple(seats[1]))\n",
    "print(\"%s [%s][%s]    [%s][%s][%s]    [%s][%s]\"%tuple(seats[2]))\n",
    "print(\"%s [%s][%s]    [%s][%s][%s]    [%s][%s]\"%tuple(seats[3]))\n",
    "```\n"
   ]
  },
  {
   "cell_type": "code",
   "execution_count": null,
   "metadata": {},
   "outputs": [],
   "source": [
    "# Task 5\n",
    "# Modify the above code using (any) loop to achieve the same thing.\n",
    "# The purpose is to simply the code and make it support more rows\n",
    "\n",
    "seats = [\n",
    "    [\"A\", \"1\", \"2\", \"3\", \"4\", \"5\", \"6\", \"7\"],\n",
    "    [\"B\", \"1\", \"2\", \"3\", \"x\", \"x\", \"6\", \"7\"],\n",
    "    [\"C\", \"x\", \"x\", \"3\", \"4\", \"5\", \"6\", \"7\"],\n",
    "    [\"D\", \"1\", \"2\", \"x\", \"x\", \"x\", \"x\", \"x\"]\n",
    "]\n",
    "\n",
    "\n",
    "\n",
    "\n",
    "\n"
   ]
  },
  {
   "cell_type": "markdown",
   "metadata": {},
   "source": [
    "#### Task 6\n",
    "#### Game: ?????\n",
    "1. Use  while(True) to start a game\n",
    "1. Print \"Round X\" for each round, where X is the round number start from 1\n",
    "1. Ask user for a choice: \"0\", \"2\" or \"5\"\n",
    "1. Computer randomly generate a value to represent a choice: \"0\", \"2\" or \"5\" , print the choice\n",
    "1. Rules:\n",
    "\n",
    "| User | Com |Result|\n",
    "|-----|-----|----------|\n",
    "|   0 |  0  |      Draw|\n",
    "|   0 |  2  |  User Win|\n",
    "|   0 |  5  | User Lose|\n",
    "|   2 |  0  | User Lose|\n",
    "|  2  |  2  |      Draw|\n",
    "|  2  |  5  |  User Win|\n",
    "|   5 |  0  | User Win|\n",
    "|  5  |  2  | User Lose|\n",
    "|   5 |  5  |      Draw|\n",
    "6. print the result\n",
    "\n",
    "Hint for step4: you may use random.randint() to generate random integer for computer's choice and use `dict` to translate to value \"0\",\"2\",\"5\"\n",
    "\n",
    "``` python\n",
    "import random\n",
    "x = random.randint(.....)\n",
    "```\n",
    "\n",
    "**Last question:\n",
    "What is the name of the game? Modify the values \"0\", \"2\" and \"5\" to suitable values**"
   ]
  },
  {
   "cell_type": "code",
   "execution_count": 8,
   "metadata": {},
   "outputs": [
    {
     "name": "stdout",
     "output_type": "stream",
     "text": [
      "7\n",
      "5\n",
      "6\n",
      "7\n",
      "4\n",
      "9\n",
      "2\n",
      "1\n",
      "10\n",
      "7\n",
      "0\n",
      "8\n",
      "0\n",
      "7\n"
     ]
    }
   ],
   "source": [
    "# random.randint()  practice\n",
    "\n",
    "import random\n",
    "lowerBound = 0\n",
    "upperBound = 10\n",
    "\n",
    "print(random.randint(lowerBound,upperBound))\n",
    "print(random.randint(lowerBound,upperBound))\n",
    "print(random.randint(lowerBound,upperBound))\n",
    "print(random.randint(lowerBound,upperBound))\n",
    "print(random.randint(lowerBound,upperBound))\n",
    "print(random.randint(lowerBound,upperBound))\n",
    "print(random.randint(lowerBound,upperBound))\n",
    "print(random.randint(lowerBound,upperBound))\n",
    "print(random.randint(lowerBound,upperBound))\n",
    "print(random.randint(lowerBound,upperBound))\n",
    "print(random.randint(lowerBound,upperBound))\n",
    "print(random.randint(lowerBound,upperBound))\n",
    "print(random.randint(lowerBound,upperBound))\n",
    "print(random.randint(lowerBound,upperBound))"
   ]
  },
  {
   "cell_type": "code",
   "execution_count": null,
   "metadata": {},
   "outputs": [],
   "source": []
  },
  {
   "cell_type": "markdown",
   "metadata": {},
   "source": [
    "#### Task7: if-else, else if\n",
    "\n",
    "1. Ask user for an integer input, the integer range should be between 0 and 100. Store the value in a variable `score`\n",
    "1. Create a string variable `grade`. Initialize empty string (`\"\"`) as value.\n",
    "1. Assign the `grade` according to the following rules:\n",
    "    - 90+ -> A\n",
    "    - 80+ -> B\n",
    "    - 70+ -> C\n",
    "    - 60+ -> D\n",
    "    - 50+ -> E\n",
    "    - < 50 -> F\n",
    "1. Print a message: `The letter grade for score xx is X.`"
   ]
  },
  {
   "cell_type": "code",
   "execution_count": null,
   "metadata": {
    "colab": {
     "autoexec": {
      "startup": false,
      "wait_interval": 0
     },
     "base_uri": "https://localhost:8080/",
     "height": 51
    },
    "colab_type": "code",
    "executionInfo": {
     "elapsed": 4794,
     "status": "ok",
     "timestamp": 1532632094239,
     "user": {
      "displayName": "wong kachau",
      "photoUrl": "https://lh3.googleusercontent.com/a/default-user=s128",
      "userId": "111717911065052376046"
     },
     "user_tz": -480
    },
    "id": "wKPirdCJ9gUn",
    "outputId": "7d9711b4-3a75-4816-c1b9-7701a291b891"
   },
   "outputs": [],
   "source": [
    "# Task 7: if-else, else if\n",
    "\n",
    "score = float(input(\"Please input a number between 0 and 100: \"))\n",
    "grade = \"\";\n",
    "\n",
    "\n",
    "# Write an if-else statement to assign the letter grade for the input score\n",
    "# score 90+ => grade A\n",
    "# score 80 to 89.99999999999999 => grade B\n",
    "# score 70 to 79.99999999999999 => grade C\n",
    "# score 60 to 69.99999999999999 => grade D\n",
    "# score 50 to 59.99999999999999 => grade E\n",
    "# score 49.99999999999999- => grade F\n",
    "\n",
    "\n",
    "\n",
    "\n",
    "\n",
    "\n",
    "\n"
   ]
  },
  {
   "cell_type": "code",
   "execution_count": null,
   "metadata": {},
   "outputs": [],
   "source": []
  }
 ],
 "metadata": {
  "colab": {
   "collapsed_sections": [],
   "default_view": {},
   "name": "Control Flow.ipynb",
   "provenance": [],
   "version": "0.3.2",
   "views": {}
  },
  "kernelspec": {
   "display_name": "Python 3",
   "language": "python",
   "name": "python3"
  },
  "language_info": {
   "codemirror_mode": {
    "name": "ipython",
    "version": 3
   },
   "file_extension": ".py",
   "mimetype": "text/x-python",
   "name": "python",
   "nbconvert_exporter": "python",
   "pygments_lexer": "ipython3",
   "version": "3.6.5"
  }
 },
 "nbformat": 4,
 "nbformat_minor": 1
}
