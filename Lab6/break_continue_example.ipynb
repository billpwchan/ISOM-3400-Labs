{
 "cells": [
  {
   "cell_type": "code",
   "execution_count": 1,
   "metadata": {},
   "outputs": [
    {
     "name": "stdout",
     "output_type": "stream",
     "text": [
      "bullet: 3\n",
      "\n",
      "\n",
      "--------------------\n",
      "Round: 0\n",
      "Say your lastword:fgdfgdfg\n",
      "Pray\n",
      "Dice: 5\n",
      "Shoot!\n",
      "You are still alive.\n",
      "Be happy for 1 second.\n",
      "\n",
      "--------------------\n",
      "Round: 1\n",
      "Say your lastword:hu\n",
      "Pray\n",
      "Dice: 2\n",
      "Shoot!\n",
      "You are still alive.\n",
      "Be happy for 1 second.\n",
      "\n",
      "--------------------\n",
      "Round: 2\n",
      "Say your lastword:kjhjkh\n",
      "Pray\n",
      "Dice: 1\n",
      "Shoot!\n",
      "You are still alive.\n",
      "Be happy for 1 second.\n",
      "\n",
      "--------------------\n",
      "Round: 3\n",
      "Say your lastword:xZ\n",
      "Pray\n",
      "Dice: 2\n",
      "Shoot!\n",
      "Say good bye to the world! BOOM!!!\n",
      "You don't need to play anymore :)\n",
      "Your lastword is: xZ\n"
     ]
    }
   ],
   "source": [
    "import random\n",
    "\n",
    "lastword = \"\"\n",
    "bullet = random.randint(0,5)\n",
    "\n",
    "print(\"bullet:\",bullet)\n",
    "print()\n",
    "\n",
    "for i in range(6):\n",
    "    print()\n",
    "    print(\"-\"*20)\n",
    "    print(\"Round:\", i)\n",
    "    lastword = input(\"Say your lastword:\")\n",
    "    print(\"Pray\")\n",
    "    \n",
    "    # chances\n",
    "    dice = random.randint(1,6)\n",
    "    print(\"Dice:\", dice)\n",
    "    \n",
    "    if dice == 6:\n",
    "        print(\"You are so lucky! Skip this round.\")\n",
    "        print(\"Start the next round immediately. >> continue\")\n",
    "        continue\n",
    "        \n",
    "    print(\"Shoot!\")\n",
    "    \n",
    "    if i == bullet:\n",
    "        print(\"Say good bye to the world! BOOM!!!\")\n",
    "        print(\"You don't need to play anymore :)\")\n",
    "        print(\"Your lastword is:\", lastword)\n",
    "        break\n",
    "        \n",
    "    print(\"You are still alive.\")\n",
    "    print(\"Be happy for 1 second.\")\n",
    "\n",
    "else:\n",
    "    print(\"You are survived from this game\")\n",
    "\n"
   ]
  }
 ],
 "metadata": {
  "kernelspec": {
   "display_name": "Python 3",
   "language": "python",
   "name": "python3"
  },
  "language_info": {
   "codemirror_mode": {
    "name": "ipython",
    "version": 3
   },
   "file_extension": ".py",
   "mimetype": "text/x-python",
   "name": "python",
   "nbconvert_exporter": "python",
   "pygments_lexer": "ipython3",
   "version": "3.6.5"
  }
 },
 "nbformat": 4,
 "nbformat_minor": 2
}
