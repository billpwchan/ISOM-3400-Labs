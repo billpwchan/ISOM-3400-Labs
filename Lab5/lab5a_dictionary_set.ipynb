{
 "cells": [
  {
   "cell_type": "markdown",
   "metadata": {},
   "source": [
    "# Dictionary"
   ]
  },
  {
   "cell_type": "code",
   "execution_count": 27,
   "metadata": {},
   "outputs": [
    {
     "name": "stdout",
     "output_type": "stream",
     "text": [
      "{'apple': 'green', 'banana': 'yellow', 'cherry': 'red'}\n"
     ]
    }
   ],
   "source": [
    "# empty dictionary\n",
    "my_dict = {}\n",
    "\n",
    "# dictionary with integer keys\n",
    "my_dict = {1: 'apple', 2: 'ball'}\n",
    "\n",
    "# dictionary with mixed keys\n",
    "my_dict = {'name': 'John', 1: [2, 4, 3]}\n",
    "\n",
    "# using dict()\n",
    "my_dict = {1:'apple', 2:'ball'}\n",
    "\n",
    "# from sequence having each item as a pair\n",
    "my_dict = dict([(1,'apple'), (2,'ball')])\n",
    "\n",
    "fruit_color = dict(apple=\"green\", banana=\"yellow\", cherry=\"red\")\n",
    "print(fruit_color)\n"
   ]
  },
  {
   "cell_type": "markdown",
   "metadata": {},
   "source": [
    "## Python Dictionary Methods\n",
    "\n",
    "* get(key[,d])\n",
    "* items()\n",
    "* keys()\n",
    "* update([other])\n",
    "* values()"
   ]
  },
  {
   "cell_type": "markdown",
   "metadata": {},
   "source": [
    "### HTTP status codes"
   ]
  },
  {
   "cell_type": "code",
   "execution_count": 3,
   "metadata": {},
   "outputs": [
    {
     "data": {
      "text/plain": [
       "'Not Found'"
      ]
     },
     "execution_count": 3,
     "metadata": {},
     "output_type": "execute_result"
    }
   ],
   "source": [
    "http_status_codes = {\n",
    "    100: \"Continue\",\n",
    "    101: \"Switching Protocols\",\n",
    "    102: \"Processing\",\n",
    "    200: \"OK\",\n",
    "    201: \"Created\",\n",
    "    206: \"Partial Content\",\n",
    "    301: \"Moved Permanently\",\n",
    "    302: \"Found\",\n",
    "    400: \"Bad Request\",\n",
    "    401: \"Unauthorized\",\n",
    "    403: \"Forbidden\",\n",
    "    404: \"Not Found\",\n",
    "    500: \"Internal Server Error\",\n",
    "    502: \"Bad Gateway\",\n",
    "    503: \"Service Unavailable\",\n",
    "}\n",
    "\n",
    "http_status_codes[404]"
   ]
  },
  {
   "cell_type": "markdown",
   "metadata": {},
   "source": [
    "#### 1. get(key[,d])"
   ]
  },
  {
   "cell_type": "code",
   "execution_count": 4,
   "metadata": {
    "scrolled": true
   },
   "outputs": [
    {
     "name": "stdout",
     "output_type": "stream",
     "text": [
      "get: \n",
      "Not Found\n",
      "None\n",
      "DEFAULT value if 123 does not exist\n"
     ]
    }
   ],
   "source": [
    "print(\"get: \")\n",
    "print(http_status_codes.get(404))\n",
    "print(http_status_codes.get(123))\n",
    "print(http_status_codes.get(123,\"DEFAULT value if 123 does not exist\"))"
   ]
  },
  {
   "cell_type": "markdown",
   "metadata": {},
   "source": [
    "#### 2. items()"
   ]
  },
  {
   "cell_type": "code",
   "execution_count": 5,
   "metadata": {},
   "outputs": [
    {
     "name": "stdout",
     "output_type": "stream",
     "text": [
      "\n",
      "items: \n",
      "dict_items([(100, 'Continue'), (101, 'Switching Protocols'), (102, 'Processing'), (200, 'OK'), (201, 'Created'), (206, 'Partial Content'), (301, 'Moved Permanently'), (302, 'Found'), (400, 'Bad Request'), (401, 'Unauthorized'), (403, 'Forbidden'), (404, 'Not Found'), (500, 'Internal Server Error'), (502, 'Bad Gateway'), (503, 'Service Unavailable')])\n"
     ]
    }
   ],
   "source": [
    "print()\n",
    "print(\"items: \")\n",
    "print(http_status_codes.items())"
   ]
  },
  {
   "cell_type": "markdown",
   "metadata": {},
   "source": [
    "#### 3. keys()"
   ]
  },
  {
   "cell_type": "code",
   "execution_count": 6,
   "metadata": {},
   "outputs": [
    {
     "name": "stdout",
     "output_type": "stream",
     "text": [
      "\n",
      "keys: \n",
      "dict_keys([100, 101, 102, 200, 201, 206, 301, 302, 400, 401, 403, 404, 500, 502, 503])\n"
     ]
    }
   ],
   "source": [
    "# keys()\n",
    "print()\n",
    "print(\"keys: \")\n",
    "print(http_status_codes.keys())"
   ]
  },
  {
   "cell_type": "markdown",
   "metadata": {},
   "source": [
    "#### 3.values()"
   ]
  },
  {
   "cell_type": "code",
   "execution_count": 7,
   "metadata": {},
   "outputs": [
    {
     "name": "stdout",
     "output_type": "stream",
     "text": [
      "\n",
      "values: \n",
      "dict_values(['Continue', 'Switching Protocols', 'Processing', 'OK', 'Created', 'Partial Content', 'Moved Permanently', 'Found', 'Bad Request', 'Unauthorized', 'Forbidden', 'Not Found', 'Internal Server Error', 'Bad Gateway', 'Service Unavailable'])\n"
     ]
    }
   ],
   "source": [
    "print()\n",
    "print(\"values: \")\n",
    "print(http_status_codes.values())"
   ]
  },
  {
   "cell_type": "markdown",
   "metadata": {},
   "source": [
    "#### 4. update()"
   ]
  },
  {
   "cell_type": "code",
   "execution_count": 8,
   "metadata": {},
   "outputs": [
    {
     "name": "stdout",
     "output_type": "stream",
     "text": [
      "\n",
      "update: \n",
      "{'Tom': '12345678', 'Ada': '12345679', 'Sam': '23456789', 'Mary': '21456325', 'Jason': '24785412'}\n",
      "{'Mary': '21456325', 'Jason': '24785412'}\n"
     ]
    }
   ],
   "source": [
    "print()\n",
    "print(\"update: \")\n",
    "phone1 = {\"Tom\": \"12345678\", \"Ada\": \"12345679\", \"Sam\": \"23456789\"}\n",
    "phone2 = {\"Mary\": \"21456325\", \"Jason\": \"24785412\"}\n",
    "\n",
    "phone1.update(phone2)\n",
    "print(phone1)\n",
    "print(phone2)\n"
   ]
  },
  {
   "cell_type": "markdown",
   "metadata": {},
   "source": [
    "#### Task 1: Check whether \"Tom\" is in the dict `phone1`. Expected output will be True or False."
   ]
  },
  {
   "cell_type": "code",
   "execution_count": 11,
   "metadata": {},
   "outputs": [
    {
     "name": "stdout",
     "output_type": "stream",
     "text": [
      "True\n"
     ]
    }
   ],
   "source": [
    "print(\"Tom\" in phone1)"
   ]
  },
  {
   "cell_type": "markdown",
   "metadata": {},
   "source": [
    "#### Task 2: Check whether there is a phone number: 98765432 in the dict `phone1`"
   ]
  },
  {
   "cell_type": "code",
   "execution_count": 12,
   "metadata": {},
   "outputs": [
    {
     "name": "stdout",
     "output_type": "stream",
     "text": [
      "False\n"
     ]
    }
   ],
   "source": [
    "print(\"98765432\" in phone1.values())"
   ]
  },
  {
   "cell_type": "markdown",
   "metadata": {},
   "source": [
    "## More about dictionary\n",
    "- Dictionary can be complex - like 2D, 3D or even n-Dimension list"
   ]
  },
  {
   "cell_type": "code",
   "execution_count": 28,
   "metadata": {},
   "outputs": [
    {
     "name": "stdout",
     "output_type": "stream",
     "text": [
      "John\n",
      "27\n",
      "Female\n"
     ]
    }
   ],
   "source": [
    "people = {'20123456': {'name': 'John', 'age': '27', 'gender': 'Male'},\n",
    "          '20123457': {'name': 'Marie', 'age': '22', 'gender': 'Female'}}\n",
    "\n",
    "print(people['20123456']['name'])\n",
    "print(people['20123456']['age'])\n",
    "print(people['20123457']['gender'])"
   ]
  },
  {
   "cell_type": "code",
   "execution_count": 31,
   "metadata": {},
   "outputs": [],
   "source": [
    "courses = {\n",
    "    \"ISOM3400\":{\n",
    "        \"title\":\"Python Programming for Business Analytics (3 units)\", \n",
    "        \"L1\":{\n",
    "            \"Instructor\": \"KWOK, James Sai Ho\",\n",
    "              \"Room\": \"Rm 6573, Lift 29-30\",\n",
    "             }, \n",
    "        \"L2\":{\n",
    "            \"Instructor\": \"HONG, Weiyin\",\n",
    "            \"Room\": \"Rm 1005, LSK Bldg\",\n",
    "        },\n",
    "    },\n",
    "    \"ISOM2010\":{\n",
    "        \"title\":\"Introduction to Information Systems (3 units)\", \n",
    "        \"L1\":{\n",
    "            \"Instructor\": \"XU, Hong\",\n",
    "              \"Room\": \"Lecture Theater K\",\n",
    "        }, \n",
    "        \"L2\":{\n",
    "            \"Instructor\": \"XU, Hong\",\n",
    "              \"Room\": \"Lecture Theater E\",\n",
    "        }, \n",
    "    }\n",
    "}"
   ]
  },
  {
   "cell_type": "code",
   "execution_count": 32,
   "metadata": {},
   "outputs": [
    {
     "name": "stdout",
     "output_type": "stream",
     "text": [
      "Course:\n",
      "\n",
      " {'ISOM3400': {'title': 'Python Programming for Business Analytics (3 units)', 'L1': {'Instructor': 'KWOK, James Sai Ho', 'Room': 'Rm 6573, Lift 29-30'}, 'L2': {'Instructor': 'HONG, Weiyin', 'Room': 'Rm 1005, LSK Bldg'}}, 'ISOM2010': {'title': 'Introduction to Information Systems (3 units)', 'L1': {'Instructor': 'XU, Hong', 'Room': 'Lecture Theater K'}, 'L2': {'Instructor': 'XU, Hong', 'Room': 'Lecture Theater E'}}}\n",
      "\n",
      "Rm 6573, Lift 29-30\n",
      "\n",
      "HONG, Weiyin\n",
      "\n",
      "Introduction to Information Systems (3 units)\n",
      "\n"
     ]
    }
   ],
   "source": [
    "print(\"Course:\\n\\n\",courses)\n",
    "print()\n",
    "print(courses[\"ISOM3400\"][\"L1\"][\"Room\"])\n",
    "print()\n",
    "print(courses[\"ISOM3400\"][\"L2\"][\"Instructor\"])\n",
    "print()\n",
    "print(courses[\"ISOM2010\"][\"title\"])\n",
    "print()"
   ]
  },
  {
   "cell_type": "markdown",
   "metadata": {},
   "source": [
    "#### Adding new item into a dictionary:"
   ]
  },
  {
   "cell_type": "code",
   "execution_count": 29,
   "metadata": {},
   "outputs": [
    {
     "name": "stdout",
     "output_type": "stream",
     "text": [
      "\n",
      "{'Instructor': 'KWOK, James Sai Ho', 'Room': 'Rm 6573, Lift 29-30'}\n"
     ]
    }
   ],
   "source": [
    "courses[\"ISOM3400\"][\"L9\"]={\n",
    "            \"Instructor\": \"KWOK, James Sai Ho\",\n",
    "            \"Room\": \"Rm 6573, Lift 29-30\",\n",
    "             }\n",
    "print()\n",
    "print(courses[\"ISOM3400\"][\"L9\"])"
   ]
  },
  {
   "cell_type": "markdown",
   "metadata": {},
   "source": [
    "### Language support example\n",
    "There are three language packs:"
   ]
  },
  {
   "cell_type": "code",
   "execution_count": 23,
   "metadata": {},
   "outputs": [
    {
     "name": "stdout",
     "output_type": "stream",
     "text": [
      "お探しのページは見つかりませんでした\n"
     ]
    }
   ],
   "source": [
    "MESSAGE_EN = {\n",
    "    \"DISK_FULL_MSG\": \"The memory is full\",\n",
    "    404: \"Not Found\"\n",
    "    #...\n",
    "}\n",
    "MESSAGE_ZH = {\n",
    "    \"DISK_FULL_MSG\": \"記憶體已滿\",\n",
    "    404: \"找不到頁面\"\n",
    "    #...\n",
    "    #...\n",
    "}\n",
    "MESSAGE_JP = {\n",
    "    \"DISK_FULL_MSG\": \"メモリがいっぱいです\",\n",
    "    404: \"お探しのページは見つかりませんでした\",\n",
    "    #...\n",
    "    #...\n",
    "}\n",
    "\n",
    "# When you need to add a message, you need to add the message in all languages.\n",
    "# Otherwise, error may occur due to the missing item in a lang pack.\n",
    "\n",
    "\n",
    "# lang setting:\n",
    "#message = MESSAGE_EN\n",
    "#message = MESSAGE_ZH\n",
    "message = MESSAGE_JP\n",
    "    \n",
    "\n",
    "#In your program\n",
    "\n",
    "msg_code = \"DISK_FULL_MSG\"\n",
    "msg_code = 404\n",
    "# ...\n",
    "# ...\n",
    "print(message[msg_code])"
   ]
  },
  {
   "cell_type": "markdown",
   "metadata": {},
   "source": [
    "## Tasks (Part a):\n",
    "### Given the following data:\n",
    "\n",
    "|English             | Chinese       | Japanese              |\n",
    "| --- | --- | --- |\n",
    "|\"Caffè Americano\"   | \"美式咖啡\"     | \"カフェ アメリカーノ\"   | \n",
    "|\"Caffè Mocha\"       | \"朱古力咖啡\"   | \"カフェ モカ\"          | \n",
    "|\"Caffè Latte\"       | \"鮮奶咖啡\"     | \"スターバックス ラテ\"   | \n",
    "|\"Cappuccino\"        | \"泡沫咖啡\"     | \"カプチーノ\"           | \n",
    "|\"Caramel Macchiato\" | \"焦糖咖啡\"     | \"キャラメル マキアート\" | \n",
    "\n",
    "\n",
    "1. Create three dictionaries named `coffee_shop_menu_en`, `coffee_shop_menu_zh`, `coffee_shop_menu_jp`\n",
    "> the keys are the English version of the drinks\n",
    "1. Create a list named `menu` and put the three dictionaries into the list.\n",
    "1. Use comprehension to print the following table:\n",
    "```\n",
    "Caffè Mocha          | 朱古力咖啡                | カフェ モカ              \n",
    "Caffè Latte          | 鮮奶咖啡                 | スターバックス ラテ          \n",
    "Caffè Americano      | 美式咖啡                 | カフェ アメリカーノ          \n",
    "Cappuccino           | 泡沫咖啡                 | カプチーノ               \n",
    "Caramel Macchiato    | 焦糖咖啡                 | キャラメル マキアート   \n",
    "```"
   ]
  },
  {
   "cell_type": "code",
   "execution_count": 14,
   "metadata": {},
   "outputs": [
    {
     "name": "stdout",
     "output_type": "stream",
     "text": [
      "Caffè Latte          | 鮮奶咖啡                 | スターバックス ラテ          \n",
      "Caramel Macchiato    | 焦糖咖啡                 | キャラメル マキアート         \n",
      "Caffè Americano      | 美式咖啡                 | カフェ アメリカーノ          \n",
      "Cappuccino           | 泡沫咖啡                 | カプチーノ               \n",
      "Caffè Mocha          | 朱古力咖啡                | カフェ モカ              \n"
     ]
    }
   ],
   "source": [
    "coffee_shop_menu_en = {\n",
    "    \"Caffè Americano\":\"Caffè Americano\",\n",
    "    \"Caffè Mocha\":\"Caffè Mocha\",\n",
    "    \"Caffè Latte\":\"Caffè Latte\",\n",
    "    \"Cappuccino\":\"Cappuccino\",\n",
    "    \"Caramel Macchiato\":\"Caramel Macchiato\",\n",
    "}\n",
    "\n",
    "coffee_shop_menu_zh = {\n",
    "    \"Caffè Americano\":\"美式咖啡\",\n",
    "    \"Caffè Mocha\":\"朱古力咖啡\",\n",
    "    \"Caffè Latte\":\"鮮奶咖啡\",\n",
    "    \"Cappuccino\":\"泡沫咖啡\",\n",
    "    \"Caramel Macchiato\":\"焦糖咖啡\",\n",
    "}\n",
    "\n",
    "coffee_shop_menu_jp = {\n",
    "    \"Caffè Americano\":\"カフェ アメリカーノ\",\n",
    "    \"Caffè Mocha\":\"カフェ モカ\",\n",
    "    \"Caffè Latte\":\"スターバックス ラテ\",\n",
    "    \"Cappuccino\":\"カプチーノ\",\n",
    "    \"Caramel Macchiato\":\"キャラメル マキアート\",\n",
    "}\n",
    "\n",
    "drinks = {'Caffè Mocha', 'Caffè Latte', 'Caffè Americano', 'Cappuccino', 'Caramel Macchiato'}\n",
    "\n",
    "menu = [coffee_shop_menu_en,coffee_shop_menu_zh,coffee_shop_menu_jp]\n",
    "\n",
    "\n",
    "\n",
    "print(*[\"%-20s | %-20s | %-20s\" % (menu[0][k],menu[1][k],menu[2][k]) for k in list(drinks)], sep=\"\\n\")"
   ]
  },
  {
   "cell_type": "markdown",
   "metadata": {},
   "source": [
    "## Tasks (Part b):\n",
    "\n",
    "- Write a program which can show the menu item in the language that user specifies.\n",
    "\n",
    "For example:\n",
    "\n",
    "if a user types \"**en**\", the following output will be expected:\n",
    "\n",
    "`\n",
    "Caffè Latte\n",
    "Caramel Macchiato\n",
    "Caffè Americano\n",
    "Cappuccino\n",
    "Caffè Mocha`\n",
    "\n",
    "If a user types \"**zh**\", the following output will be expected:\n",
    "\n",
    "`\n",
    "鮮奶咖啡\n",
    "焦糖咖啡\n",
    "美式咖啡\n",
    "泡沫咖啡\n",
    "朱古力咖啡`\n",
    "\n",
    "If a user types \"**jp**\", the following output will be expected:\n",
    "\n",
    "`スターバックス ラテ\n",
    "キャラメル マキアート\n",
    "カフェ アメリカーノ\n",
    "カプチーノ\n",
    "カフェ モカ`\n",
    "\n",
    "(Hint: You may need to create a new variable  with the language choices (ie en, zh, or jp) as key), and then print the result using list comprehension.)\n"
   ]
  },
  {
   "cell_type": "code",
   "execution_count": 34,
   "metadata": {},
   "outputs": [
    {
     "name": "stdout",
     "output_type": "stream",
     "text": [
      "Which language do you want? (en/zh/jp) en\n",
      "Caffè Latte\n",
      "Caramel Macchiato\n",
      "Caffè Americano\n",
      "Cappuccino\n",
      "Caffè Mocha\n"
     ]
    }
   ],
   "source": [
    "lang = input(\"Which language do you want? (en/zh/jp) \")\n",
    "menu_dict = { \"en\": coffee_shop_menu_en,\n",
    "             \"zh\": coffee_shop_menu_zh,\n",
    "             \"jp\": coffee_shop_menu_jp\n",
    "            }\n",
    "\n",
    "print(*[menu_dict[lang][k] for k in list(drinks)], sep=\"\\n\")"
   ]
  },
  {
   "cell_type": "code",
   "execution_count": null,
   "metadata": {},
   "outputs": [],
   "source": []
  }
 ],
 "metadata": {
  "kernelspec": {
   "display_name": "Python 3",
   "language": "python",
   "name": "python3"
  },
  "language_info": {
   "codemirror_mode": {
    "name": "ipython",
    "version": 3
   },
   "file_extension": ".py",
   "mimetype": "text/x-python",
   "name": "python",
   "nbconvert_exporter": "python",
   "pygments_lexer": "ipython3",
   "version": "3.6.5"
  }
 },
 "nbformat": 4,
 "nbformat_minor": 2
}
