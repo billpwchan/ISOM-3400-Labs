{
 "cells": [
  {
   "cell_type": "markdown",
   "metadata": {},
   "source": [
    "#### **Q1. Given a string** `s = \"You are required to use list comprehension\"`\n",
    "#### Use list comprehension to generate a list of words such that only the word with even number length are kept and converted to uppercase.\n",
    "\n",
    "#### **Output shoud be like this:**\n",
    "`['REQUIRED', 'TO', 'LIST']`"
   ]
  },
  {
   "cell_type": "code",
   "execution_count": null,
   "metadata": {},
   "outputs": [],
   "source": []
  },
  {
   "cell_type": "markdown",
   "metadata": {},
   "source": [
    "#### Q2. Given two lists ```tens = [1,2,4,5,7], units = [2,3,5,7,9]```\n",
    "\n",
    "#### Use list comprehension to return a list of numbers valued as `tens * 10 + units`, with a condition: `tens < units`\n",
    "\n",
    "#### e.g.\n",
    "- for tens = 1, units = 2, output => 12\n",
    "- for tens = 3, units = 9, output => 39\n",
    "- for tens = 5, units = 3, no output as 5 > 3\n",
    "\n",
    "#### The final result should be:\n",
    "```\n",
    "[12, 13, 15, 17, 19, 23, 25, 27, 29, 45, 47, 49, 57, 59, 79]\n",
    "```"
   ]
  },
  {
   "cell_type": "code",
   "execution_count": null,
   "metadata": {},
   "outputs": [],
   "source": []
  },
  {
   "cell_type": "markdown",
   "metadata": {},
   "source": [
    "#### Q3. Given 2 lists ```listX = [\"AIS\", \"BOM\", \"CBBA\"], listY = [\"A101\", \"A102\",\"A103\", \"B104\", \"B105\", \"C347\", \"C459\"]```\n",
    "\n",
    "#### You are required to use list comprehension to find all combinations of the two items from `listX` and `listY` based on their leading character.\n",
    "\n",
    "e.g.\n",
    "- **A**IS + **A**101 -> ISOM101\n",
    "- **B**OM + **B**104 -> OM104\n",
    "- **A**IS + **B**104 no return\n",
    "\n",
    "#### The final result should be:\n",
    "```\n",
    "['IS101', 'IS102', 'IS103', 'OM104', 'OM105', 'BBA347', 'BBA459']\n",
    "```"
   ]
  },
  {
   "cell_type": "code",
   "execution_count": null,
   "metadata": {},
   "outputs": [],
   "source": []
  },
  {
   "cell_type": "markdown",
   "metadata": {},
   "source": [
    "#### Q4. You have a 10-number list generated randomly by a `randrange` function imported from `random` library.\n",
    "#### Use list comprehension to get 2 outputs:  `keep_value` and `keep_index`\n",
    "\n",
    "e.g.\n",
    "`x = [94, 54, 82, 84, 80, 57, 90, 72, 93, 79]`\n",
    "\n",
    "94 > 54 `<` 82 `<` 84 > 80 > 57 `<` 90 > 72 `<` 93 > 79\n",
    "\n",
    "#### The value that is less than the next value would be kept in the list, i.e. `keep_value = [54, 82, 57, 72]`:\n",
    "- 54, because 54 < 82\n",
    "- 82, because 82 < 84\n",
    "- 57, because 57 < 90\n",
    "- 72, because 72 < 93\n",
    "\n",
    "#### and the corresponding index `keep_index = [1, 2, 5, 7]`"
   ]
  },
  {
   "cell_type": "code",
   "execution_count": 1,
   "metadata": {},
   "outputs": [
    {
     "name": "stdout",
     "output_type": "stream",
     "text": [
      "[84, 89, 62, 89, 50, 87, 67, 94, 99, 62]\n"
     ]
    }
   ],
   "source": [
    "import random\n",
    "x = [random.randrange(50, 100) for i in range(10)]\n",
    "print(x)"
   ]
  },
  {
   "cell_type": "code",
   "execution_count": null,
   "metadata": {},
   "outputs": [],
   "source": []
  },
  {
   "cell_type": "code",
   "execution_count": null,
   "metadata": {},
   "outputs": [],
   "source": []
  }
 ],
 "metadata": {
  "kernelspec": {
   "display_name": "Python 3",
   "language": "python",
   "name": "python3"
  },
  "language_info": {
   "codemirror_mode": {
    "name": "ipython",
    "version": 3
   },
   "file_extension": ".py",
   "mimetype": "text/x-python",
   "name": "python",
   "nbconvert_exporter": "python",
   "pygments_lexer": "ipython3",
   "version": "3.6.5"
  }
 },
 "nbformat": 4,
 "nbformat_minor": 2
}
