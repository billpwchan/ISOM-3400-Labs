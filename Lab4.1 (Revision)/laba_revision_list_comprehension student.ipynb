{
 "cells": [
  {
   "cell_type": "markdown",
   "metadata": {},
   "source": [
    "#### **Q1. Given a string** `s = \"You are required to use list comprehension\"`\n",
    "#### Use list comprehension to generate a list of words such that only the word with even number length are kept and converted to uppercase.\n",
    "\n",
    "#### **Output shoud be like this:**\n",
    "`['REQUIRED', 'TO', 'LIST']`"
   ]
  },
  {
   "cell_type": "code",
   "execution_count": 1,
   "metadata": {
    "scrolled": true
   },
   "outputs": [
    {
     "name": "stdout",
     "output_type": "stream",
     "text": [
      "list:\t ['You', 'are', 'required', 'to', 'use', 'list', 'comprehension']\n",
      "length of words:\t [3, 3, 8, 2, 3, 4, 13]\n",
      "filtered words:\t ['required', 'to', 'list']\n",
      "Answer:\t ['REQUIRED', 'TO', 'LIST']\n"
     ]
    }
   ],
   "source": [
    "s = \"You are required to use list comprehension\"\n",
    "#Step1\n",
    "print(\"list:\\t\", s.split())\n",
    "#s.split() is a list\n",
    "\n",
    "#Step2\n",
    "print(\"length of words:\\t\", [len(w) for w in s.split()])\n",
    "\n",
    "#Step3 filter the words\n",
    "print(\"filtered words:\\t\", [w for w in s.split() if len(w) % 2 == 0])\n",
    "\n",
    "#Step4 Upper Case\n",
    "\n",
    "print(\"Answer:\\t\",[w.upper() for w in s.split() if len(w) % 2 == 0])"
   ]
  },
  {
   "cell_type": "markdown",
   "metadata": {},
   "source": [
    "#### Q2. Given two lists ```tens = [1,2,4,5,7], units = [2,3,5,7,9]```\n",
    "\n",
    "#### Use list comprehension to return a list of numbers valued as `tens * 10 + units`, with a condition: `tens < units`\n",
    "\n",
    "#### e.g.\n",
    "- for tens = 1, units = 2, output => 12\n",
    "- for tens = 3, units = 9, output => 39\n",
    "- for tens = 5, units = 3, no output as 5 > 3\n",
    "\n",
    "#### The final result should be:\n",
    "```\n",
    "[12, 13, 15, 17, 19, 23, 25, 27, 29, 45, 47, 49, 57, 59, 79]\n",
    "```"
   ]
  },
  {
   "cell_type": "code",
   "execution_count": 2,
   "metadata": {},
   "outputs": [
    {
     "name": "stdout",
     "output_type": "stream",
     "text": [
      "1.\t [(1, 2), (1, 3), (1, 5), (1, 7), (1, 9), (2, 2), (2, 3), (2, 5), (2, 7), (2, 9), (4, 2), (4, 3), (4, 5), (4, 7), (4, 9), (5, 2), (5, 3), (5, 5), (5, 7), (5, 9), (7, 2), (7, 3), (7, 5), (7, 7), (7, 9)]\n",
      "\n",
      "2.\t [12, 13, 15, 17, 19, 22, 23, 25, 27, 29, 42, 43, 45, 47, 49, 52, 53, 55, 57, 59, 72, 73, 75, 77, 79]\n",
      "\n",
      "3.\t [(12, True), (13, True), (15, True), (17, True), (19, True), (22, False), (23, True), (25, True), (27, True), (29, True), (42, False), (43, False), (45, True), (47, True), (49, True), (52, False), (53, False), (55, False), (57, True), (59, True), (72, False), (73, False), (75, False), (77, False), (79, True)]\n",
      "\n",
      "Answer:\t [12, 13, 15, 17, 19, 23, 25, 27, 29, 45, 47, 49, 57, 59, 79]\n"
     ]
    }
   ],
   "source": [
    "tens = [1,2,4,5,7]\n",
    "units = [2,3,5,7,9]\n",
    "\n",
    "#Step1 read the data from lists\n",
    "print(\"1.\\t\",[(t,u) for t in tens for u in units])\n",
    "print()\n",
    "#Step2 combine t, u to a number\n",
    "print(\"2.\\t\",[t*10+u for t in tens for u in units])\n",
    "print()\n",
    "#Step3 compare t and u\n",
    "print(\"3.\\t\",[(t*10+u, t<u) for t in tens for u in units])\n",
    "print()\n",
    "#Step4 filter\n",
    "print(\"Answer:\\t\",[t*10+u for t in tens for u in units if t<u])"
   ]
  },
  {
   "cell_type": "markdown",
   "metadata": {},
   "source": [
    "#### Q3. Given 2 lists ```listX = [\"AIS\", \"BOM\", \"CBBA\"], listY = [\"A101\", \"A102\",\"A103\", \"B104\", \"B105\", \"C347\", \"C459\"]```\n",
    "\n",
    "#### You are required to use list comprehension to find all combinations of the two items from `listX` and `listY` based on their leading character.\n",
    "\n",
    "e.g.\n",
    "- **A**IS + **A**101 -> ISOM101\n",
    "- **B**OM + **B**104 -> OM104\n",
    "- **A**IS + **B**104 no return\n",
    "\n",
    "#### The final result should be:\n",
    "```\n",
    "['IS101', 'IS102', 'IS103', 'OM104', 'OM105', 'BBA347', 'BBA459']\n",
    "```"
   ]
  },
  {
   "cell_type": "code",
   "execution_count": 3,
   "metadata": {},
   "outputs": [
    {
     "name": "stdout",
     "output_type": "stream",
     "text": [
      "1.\t [('AIS', 'A101'), ('AIS', 'A102'), ('AIS', 'A103'), ('AIS', 'B104'), ('AIS', 'B105'), ('AIS', 'C347'), ('AIS', 'C459'), ('BOM', 'A101'), ('BOM', 'A102'), ('BOM', 'A103'), ('BOM', 'B104'), ('BOM', 'B105'), ('BOM', 'C347'), ('BOM', 'C459'), ('CBBA', 'A101'), ('CBBA', 'A102'), ('CBBA', 'A103'), ('CBBA', 'B104'), ('CBBA', 'B105'), ('CBBA', 'C347'), ('CBBA', 'C459')]\n",
      "\n",
      "2.\t ['AISA101', 'AISA102', 'AISA103', 'AISB104', 'AISB105', 'AISC347', 'AISC459', 'BOMA101', 'BOMA102', 'BOMA103', 'BOMB104', 'BOMB105', 'BOMC347', 'BOMC459', 'CBBAA101', 'CBBAA102', 'CBBAA103', 'CBBAB104', 'CBBAB105', 'CBBAC347', 'CBBAC459']\n",
      "\n",
      "3.\t [('AISA101', 'A', 'A'), ('AISA102', 'A', 'A'), ('AISA103', 'A', 'A'), ('AISB104', 'A', 'B'), ('AISB105', 'A', 'B'), ('AISC347', 'A', 'C'), ('AISC459', 'A', 'C'), ('BOMA101', 'B', 'A'), ('BOMA102', 'B', 'A'), ('BOMA103', 'B', 'A'), ('BOMB104', 'B', 'B'), ('BOMB105', 'B', 'B'), ('BOMC347', 'B', 'C'), ('BOMC459', 'B', 'C'), ('CBBAA101', 'C', 'A'), ('CBBAA102', 'C', 'A'), ('CBBAA103', 'C', 'A'), ('CBBAB104', 'C', 'B'), ('CBBAB105', 'C', 'B'), ('CBBAC347', 'C', 'C'), ('CBBAC459', 'C', 'C')]\n",
      "\n",
      "4.\t [('AISA101', True), ('AISA102', True), ('AISA103', True), ('AISB104', False), ('AISB105', False), ('AISC347', False), ('AISC459', False), ('BOMA101', False), ('BOMA102', False), ('BOMA103', False), ('BOMB104', True), ('BOMB105', True), ('BOMC347', False), ('BOMC459', False), ('CBBAA101', False), ('CBBAA102', False), ('CBBAA103', False), ('CBBAB104', False), ('CBBAB105', False), ('CBBAC347', True), ('CBBAC459', True)]\n",
      "\n",
      "5.\t ['AISA101', 'AISA102', 'AISA103', 'BOMB104', 'BOMB105', 'CBBAC347', 'CBBAC459']\n",
      "\n",
      "Answer\t ['IS101', 'IS102', 'IS103', 'OM104', 'OM105', 'BBA347', 'BBA459']\n",
      "\n"
     ]
    }
   ],
   "source": [
    "listX = [\"AIS\", \"BOM\", \"CBBA\"]\n",
    "listY = [\"A101\", \"A102\",\"A103\", \"B104\", \"B105\", \"C347\", \"C459\"]\n",
    "\n",
    "#Step1 Combine\n",
    "print(\"1.\\t\",[(x,y)for x in listX for y in listY])\n",
    "print()\n",
    "\n",
    "#Step2 Concatenate the two words\n",
    "print(\"2.\\t\",[x+y for x in listX for y in listY])\n",
    "print()\n",
    "\n",
    "#Step3 get the first letter\n",
    "print(\"3.\\t\",[(x+y,x[0], y[0]) for x in listX for y in listY])\n",
    "print()\n",
    "\n",
    "#Step4 get if they are the same\n",
    "print(\"4.\\t\",[(x+y,x[0] == y[0]) for x in listX for y in listY])\n",
    "print()\n",
    "\n",
    "#Step5 filter\n",
    "print(\"5.\\t\",[x+y for x in listX for y in listY if x[0] == y[0]])\n",
    "print()\n",
    "\n",
    "#Step6 remove the first letter of each item\n",
    "print(\"Answer\\t\",[x[1:]+y[1:] for x in listX for y in listY if x[0] == y[0]])\n",
    "print()"
   ]
  },
  {
   "cell_type": "markdown",
   "metadata": {},
   "source": [
    "#### Q4. You have a 10-number list generated randomly by a `randrange` function imported from `random` library.\n",
    "#### Use list comprehension to get 2 outputs:  `keep_value` and `keep_index`\n",
    "\n",
    "e.g.\n",
    "`x = [94, 54, 82, 84, 80, 57, 90, 72, 93, 79]`\n",
    "\n",
    "94 > 54 `<` 82 `<` 84 > 80 > 57 `<` 90 > 72 `<` 93 > 79\n",
    "\n",
    "#### The value that is less than the next value would be kept in the list, i.e. `keep_value = [54, 82, 57, 72]`:\n",
    "- 54, because 54 < 82\n",
    "- 82, because 82 < 84\n",
    "- 57, because 57 < 90\n",
    "- 72, because 72 < 93\n",
    "\n",
    "#### and the corresponding index `keep_index = [1, 2, 5, 7]`"
   ]
  },
  {
   "cell_type": "code",
   "execution_count": 4,
   "metadata": {},
   "outputs": [
    {
     "name": "stdout",
     "output_type": "stream",
     "text": [
      "[81, 80, 61, 74, 61, 73, 69, 79, 54, 86]\n"
     ]
    }
   ],
   "source": [
    "import random\n",
    "x = [random.randrange(50, 100) for i in range(10)]\n",
    "print(x)"
   ]
  },
  {
   "cell_type": "code",
   "execution_count": 5,
   "metadata": {},
   "outputs": [
    {
     "name": "stdout",
     "output_type": "stream",
     "text": [
      "1.\t [97, 82, 88, 64, 68, 55, 79, 83, 87, 85]\n",
      "2.\t [(97, 82), (82, 88), (88, 64), (64, 68), (68, 55), (55, 79), (79, 83), (83, 87), (87, 85)]\n",
      "2.2\t [0, 1, 2, 3, 4, 5, 6, 7, 8, 9]\n",
      "2.3\t [(0, 1), (1, 2), (2, 3), (3, 4), (4, 5), (5, 6), (6, 7), (7, 8), (8, 9), (9, 10)]\n",
      "2.4\t [(0, 1), (1, 2), (2, 3), (3, 4), (4, 5), (5, 6), (6, 7), (7, 8), (8, 9)]\n",
      "2.5\t [(97, 82), (82, 88), (88, 64), (64, 68), (68, 55), (55, 79), (79, 83), (83, 87), (87, 85)]\n",
      "3\t [(97, 82, False), (82, 88, True), (88, 64, False), (64, 68, True), (68, 55, False), (55, 79, True), (79, 83, True), (83, 87, True), (87, 85, False)]\n",
      "\n",
      "keep_value\t [82, 64, 55, 79, 83]\n",
      "\n",
      "keep_index\t [1, 3, 5, 6, 7]\n",
      "\n"
     ]
    }
   ],
   "source": [
    "x = [97, 82, 88, 64, 68, 55, 79, 83, 87, 85]\n",
    "\n",
    "#Step1 Read the data one by one\n",
    "print(\"1.\\t\",[n for n in x])\n",
    "\n",
    "#Step2 Read the item and the next item at the same time, chech the first 3\n",
    "print(\"2.\\t\",[(n, x[x.index(n)+1]) for n in x[:-1]])\n",
    "# if you don't use x[:-1] (exclude the last item), when you read the last item, the return x[x.index(n)+1] return error \n",
    "# because you don't have (last+1) item\n",
    "\n",
    "#Step2.1\n",
    "# x[x.index(n)+1] means you have a value n, \n",
    "# 1) you need the index of n from x (i.e. x.index(n)),\n",
    "# 2) +1 to get the next item index  (i.e. x.index(n)+1),\n",
    "# 3) read +1index from x (i.e. x[...+1])\n",
    "\n",
    "# Why don't you read the index at the beginning instead of read value n?\n",
    "#Step2.2 Read index from x\n",
    "print(\"2.2\\t\", [i for i in range(len(x))])\n",
    "#Step2.3 Read index and index+1 from x\n",
    "print(\"2.3\\t\", [(i,i+1) for i in range(len(x))])\n",
    "#Step2.4 We don't have item10 in x, we cannot compare 9,10 therefore len(x)-1\n",
    "print(\"2.4\\t\", [(i,i+1) for i in range(len(x)-1)])\n",
    "#Step2.5 Read Value of i and i+1 from x\n",
    "print(\"2.5\\t\", [(x[i],x[i+1]) for i in range(len(x)-1)])\n",
    "\n",
    "#Step3 compare x[i] and x[i+1]\n",
    "print(\"3\\t\", [(x[i],x[i+1],x[i]<x[i+1]) for i in range(len(x)-1)])\n",
    "print()\n",
    "#Step4 filter and keep the x[i] only\n",
    "print(\"keep_value\\t\", [x[i] for i in range(len(x)-1) if x[i]<x[i+1]])\n",
    "print()\n",
    "\n",
    "#Same logic from the above, we want to index i but not value x[i]\n",
    "#Copy the above ans and modify\n",
    "\n",
    "print(\"keep_index\\t\", [i for i in range(len(x)-1) if x[i]<x[i+1]])\n",
    "print()"
   ]
  },
  {
   "cell_type": "code",
   "execution_count": 6,
   "metadata": {},
   "outputs": [
    {
     "name": "stdout",
     "output_type": "stream",
     "text": [
      "keep_value\t [82, 64, 55, 79, 83]\n",
      "dataset y\t [82, 64, 55, 79, 83]\n",
      "Why?\t [(97, 82), (82, 88), (88, 64), (64, 68), (68, 55), (55, 79), (79, 83), (83, 97), (97, 82)]\n",
      "index 97: 0\n"
     ]
    }
   ],
   "source": [
    "#Some students' answers:\n",
    "print(\"keep_value\\t\", [n for n in x[:-1] if n<x[x.index(n)+1]])\n",
    "# They also get the same result in this dataset\n",
    "\n",
    "#if the dataset change:\n",
    "y = [97, 82, 88, 64, 68, 55, 79, 83, 97, 10000]\n",
    "\n",
    "# the expect output should be:\n",
    "# [82, 64, 55, 79, 83, 97]\n",
    "print(\"dataset y\\t\", [n for n in y[:-1] if n<y[y.index(n)+1]])\n",
    "\n",
    "# 97 is missing. Why?\n",
    "print(\"Why?\\t\",[(n, y[y.index(n)+1]) for n in y[:-1]])\n",
    "\n",
    "# Why the last item is not (97, 10000)?\n",
    "print(\"index 97:\",y.index(97))\n",
    "# Because there is a 97 at the front.\n",
    "\n",
    "# That's why this is not the best answer. This is the bug."
   ]
  },
  {
   "cell_type": "code",
   "execution_count": null,
   "metadata": {},
   "outputs": [],
   "source": []
  }
 ],
 "metadata": {
  "kernelspec": {
   "display_name": "Python 3",
   "language": "python",
   "name": "python3"
  },
  "language_info": {
   "codemirror_mode": {
    "name": "ipython",
    "version": 3
   },
   "file_extension": ".py",
   "mimetype": "text/x-python",
   "name": "python",
   "nbconvert_exporter": "python",
   "pygments_lexer": "ipython3",
   "version": "3.6.5"
  }
 },
 "nbformat": 4,
 "nbformat_minor": 2
}
