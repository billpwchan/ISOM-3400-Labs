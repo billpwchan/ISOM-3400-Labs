{
 "cells": [
  {
   "cell_type": "code",
   "execution_count": 98,
   "metadata": {},
   "outputs": [],
   "source": [
    "# Try yourself 1\n",
    "\n",
    "# import pandas as pd\n",
    "# data = pd.read_table(\"iris.csv\", header = 0,sep= \",\", names=[\"index\",\"sepal_length\",\"sepal_width\",\"petal_length\",\"petal_width\",\"target_names\"], index_col = \"index\")\n",
    "# data1 = pd.read_table(\"iris.csv\", header = 0,sep= \",\", names=[\"index\",\"sepal_length\",\"sepal_width\",\"petal_length\",\"petal_width\",\"target_names\"])"
   ]
  },
  {
   "cell_type": "code",
   "execution_count": 99,
   "metadata": {},
   "outputs": [],
   "source": [
    "# Try yourself 2\n",
    "\n",
    "# data[51:100]\n",
    "# data[51:100][data[51:100][\"sepal_length\"]>6]"
   ]
  },
  {
   "cell_type": "code",
   "execution_count": 114,
   "metadata": {},
   "outputs": [
    {
     "data": {
      "text/html": [
       "<div>\n",
       "<style scoped>\n",
       "    .dataframe tbody tr th:only-of-type {\n",
       "        vertical-align: middle;\n",
       "    }\n",
       "\n",
       "    .dataframe tbody tr th {\n",
       "        vertical-align: top;\n",
       "    }\n",
       "\n",
       "    .dataframe thead th {\n",
       "        text-align: right;\n",
       "    }\n",
       "</style>\n",
       "<table border=\"1\" class=\"dataframe\">\n",
       "  <thead>\n",
       "    <tr style=\"text-align: right;\">\n",
       "      <th></th>\n",
       "      <th>sepal_length</th>\n",
       "      <th>sepal_width</th>\n",
       "      <th>petal_length</th>\n",
       "      <th>petal_width</th>\n",
       "      <th>target_names</th>\n",
       "    </tr>\n",
       "    <tr>\n",
       "      <th>index</th>\n",
       "      <th></th>\n",
       "      <th></th>\n",
       "      <th></th>\n",
       "      <th></th>\n",
       "      <th></th>\n",
       "    </tr>\n",
       "  </thead>\n",
       "  <tbody>\n",
       "    <tr>\n",
       "      <th>100</th>\n",
       "      <td>6.3</td>\n",
       "      <td>3.3</td>\n",
       "      <td>6.0</td>\n",
       "      <td>2.5</td>\n",
       "      <td>2</td>\n",
       "    </tr>\n",
       "    <tr>\n",
       "      <th>109</th>\n",
       "      <td>7.2</td>\n",
       "      <td>3.6</td>\n",
       "      <td>6.1</td>\n",
       "      <td>2.5</td>\n",
       "      <td>2</td>\n",
       "    </tr>\n",
       "    <tr>\n",
       "      <th>117</th>\n",
       "      <td>7.7</td>\n",
       "      <td>3.8</td>\n",
       "      <td>6.7</td>\n",
       "      <td>2.2</td>\n",
       "      <td>2</td>\n",
       "    </tr>\n",
       "    <tr>\n",
       "      <th>124</th>\n",
       "      <td>6.7</td>\n",
       "      <td>3.3</td>\n",
       "      <td>5.7</td>\n",
       "      <td>2.1</td>\n",
       "      <td>2</td>\n",
       "    </tr>\n",
       "    <tr>\n",
       "      <th>131</th>\n",
       "      <td>7.9</td>\n",
       "      <td>3.8</td>\n",
       "      <td>6.4</td>\n",
       "      <td>2.0</td>\n",
       "      <td>2</td>\n",
       "    </tr>\n",
       "    <tr>\n",
       "      <th>136</th>\n",
       "      <td>6.3</td>\n",
       "      <td>3.4</td>\n",
       "      <td>5.6</td>\n",
       "      <td>2.4</td>\n",
       "      <td>2</td>\n",
       "    </tr>\n",
       "    <tr>\n",
       "      <th>144</th>\n",
       "      <td>6.7</td>\n",
       "      <td>3.3</td>\n",
       "      <td>5.7</td>\n",
       "      <td>2.5</td>\n",
       "      <td>2</td>\n",
       "    </tr>\n",
       "    <tr>\n",
       "      <th>148</th>\n",
       "      <td>6.2</td>\n",
       "      <td>3.4</td>\n",
       "      <td>5.4</td>\n",
       "      <td>2.3</td>\n",
       "      <td>2</td>\n",
       "    </tr>\n",
       "  </tbody>\n",
       "</table>\n",
       "</div>"
      ],
      "text/plain": [
       "       sepal_length  sepal_width  petal_length  petal_width  target_names\n",
       "index                                                                    \n",
       "100             6.3          3.3           6.0          2.5             2\n",
       "109             7.2          3.6           6.1          2.5             2\n",
       "117             7.7          3.8           6.7          2.2             2\n",
       "124             6.7          3.3           5.7          2.1             2\n",
       "131             7.9          3.8           6.4          2.0             2\n",
       "136             6.3          3.4           5.6          2.4             2\n",
       "144             6.7          3.3           5.7          2.5             2\n",
       "148             6.2          3.4           5.4          2.3             2"
      ]
     },
     "execution_count": 114,
     "metadata": {},
     "output_type": "execute_result"
    }
   ],
   "source": [
    "# Try yourself 3\n",
    "\n",
    "data[(data[\"sepal_width\"]>3.2) & (data[\"petal_length\"] > 5)]"
   ]
  },
  {
   "cell_type": "code",
   "execution_count": 131,
   "metadata": {},
   "outputs": [
    {
     "data": {
      "text/plain": [
       "index\n",
       "50    3.2\n",
       "51    3.2\n",
       "52    3.1\n",
       "53    2.3\n",
       "54    2.8\n",
       "55    2.8\n",
       "56    3.3\n",
       "57    2.4\n",
       "58    2.9\n",
       "59    2.7\n",
       "60    2.0\n",
       "61    3.0\n",
       "62    2.2\n",
       "63    2.9\n",
       "64    2.9\n",
       "65    3.1\n",
       "66    3.0\n",
       "67    2.7\n",
       "68    2.2\n",
       "69    2.5\n",
       "70    3.2\n",
       "71    2.8\n",
       "72    2.5\n",
       "73    2.8\n",
       "74    2.9\n",
       "75    3.0\n",
       "76    2.8\n",
       "77    3.0\n",
       "78    2.9\n",
       "79    2.6\n",
       "80    2.4\n",
       "81    2.4\n",
       "82    2.7\n",
       "83    2.7\n",
       "84    3.0\n",
       "85    3.4\n",
       "86    3.1\n",
       "87    2.3\n",
       "88    3.0\n",
       "89    2.5\n",
       "90    2.6\n",
       "91    3.0\n",
       "92    2.6\n",
       "93    2.3\n",
       "94    2.7\n",
       "95    3.0\n",
       "96    2.9\n",
       "97    2.9\n",
       "98    2.5\n",
       "99    2.8\n",
       "Name: sepal_width, dtype: float64"
      ]
     },
     "execution_count": 131,
     "metadata": {},
     "output_type": "execute_result"
    }
   ],
   "source": [
    "data.groupby(\"target_names\").get_group(1)[\"sepal_width\"]\n"
   ]
  },
  {
   "cell_type": "code",
   "execution_count": 100,
   "metadata": {},
   "outputs": [
    {
     "data": {
      "text/plain": [
       "Text(0,0.5,'Petal Width')"
      ]
     },
     "execution_count": 100,
     "metadata": {},
     "output_type": "execute_result"
    },
    {
     "data": {
      "image/png": "[encoded data removed]",
      "text/plain": [
       "<Figure size 432x288 with 1 Axes>"
      ]
     },
     "metadata": {},
     "output_type": "display_data"
    },
    {
     "data": {
      "image/png": "[encoded data removed]",
      "text/plain": [
       "<Figure size 432x288 with 1 Axes>"
      ]
     },
     "metadata": {},
     "output_type": "display_data"
    }
   ],
   "source": [
    "# scatter graph\n",
    "\n",
    "#\n",
    "from matplotlib import pyplot as plt\n",
    "\n",
    "plt.figure(0)\n",
    "plt.scatter(data[data.target_names == 0].petal_length, data[data.target_names == 0].petal_width, marker =\".\")\n",
    "plt.scatter(data[data.target_names == 1].petal_length, data[data.target_names == 0].petal_width, marker =\"v\")\n",
    "plt.scatter(data[data.target_names == 2].petal_length, data[data.target_names == 0].petal_width, marker =\"1\")\n",
    "\n",
    "plt.xlabel(\"Petal Length\")\n",
    "plt.ylabel(\"Petal Width\")\n",
    "\n",
    "plt.figure(1)\n",
    "plt.scatter(data[data.target_names == 0].sort_values(\"petal_length\").petal_length, data[data.target_names == 0].sort_values(\"petal_length\").petal_width, marker =\".\")\n",
    "plt.scatter(data[data.target_names == 1].sort_values(\"petal_length\").petal_length, data[data.target_names == 0].sort_values(\"petal_length\").petal_width, marker =\"v\")\n",
    "plt.scatter(data[data.target_names == 2].sort_values(\"petal_length\").petal_length, data[data.target_names == 0].sort_values(\"petal_length\").petal_width, marker =\"1\")\n",
    "\n",
    "plt.xlabel(\"Petal Length\")\n",
    "plt.ylabel(\"Petal Width\")\n",
    "\n"
   ]
  },
  {
   "cell_type": "code",
   "execution_count": null,
   "metadata": {},
   "outputs": [],
   "source": []
  }
 ],
 "metadata": {
  "kernelspec": {
   "display_name": "Python 3",
   "language": "python",
   "name": "python3"
  },
  "language_info": {
   "codemirror_mode": {
    "name": "ipython",
    "version": 3
   },
   "file_extension": ".py",
   "mimetype": "text/x-python",
   "name": "python",
   "nbconvert_exporter": "python",
   "pygments_lexer": "ipython3",
   "version": "3.6.5"
  }
 },
 "nbformat": 4,
 "nbformat_minor": 2
}
