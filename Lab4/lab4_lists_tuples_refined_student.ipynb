{
 "cells": [
  {
   "cell_type": "markdown",
   "metadata": {},
   "source": [
    "# Lab 4: Lists and Tuples"
   ]
  },
  {
   "cell_type": "markdown",
   "metadata": {},
   "source": [
    "## List\n",
    "\n",
    "* You may access the content of a list by its index(location) starting from 0\n",
    "* The content of a list does not have to be in the same data type"
   ]
  },
  {
   "cell_type": "code",
   "execution_count": 3,
   "metadata": {},
   "outputs": [
    {
     "name": "stdout",
     "output_type": "stream",
     "text": [
      "string\n",
      "1234\n",
      "['string', 1234]\n"
     ]
    }
   ],
   "source": [
    "oneDimensionList = [\"string\", 1234, 1234.0, True]\n",
    "\n",
    "print(oneDimensionList[0])\n",
    "print(oneDimensionList[1])\n",
    "print(oneDimensionList[0:2])"
   ]
  },
  {
   "cell_type": "markdown",
   "metadata": {},
   "source": [
    "### 1. Reversing string and list"
   ]
  },
  {
   "cell_type": "code",
   "execution_count": 1,
   "metadata": {},
   "outputs": [
    {
     "name": "stdout",
     "output_type": "stream",
     "text": [
      "evil\n",
      "['item4', 'item3', 'item2', 'item1']\n"
     ]
    }
   ],
   "source": [
    "# 1)\n",
    "string1 = \"live\"\n",
    "\n",
    "\n",
    "str_list = [\"item1\",\"item2\",\"item3\",\"item4\"]\n"
   ]
  },
  {
   "cell_type": "markdown",
   "metadata": {},
   "source": [
    "### 2.1 A single string --> a list of strings"
   ]
  },
  {
   "cell_type": "code",
   "execution_count": 3,
   "metadata": {},
   "outputs": [
    {
     "name": "stdout",
     "output_type": "stream",
     "text": [
      "['item1', 'item2', 'item3', 'item4']\n"
     ]
    }
   ],
   "source": [
    "whatIsThis = \"item1 item2 item3 item4\".split()\n",
    "print(whatIsThis)"
   ]
  },
  {
   "cell_type": "markdown",
   "metadata": {},
   "source": [
    "### Question: \n",
    "Given a variable `sentence` = `\"This is a very long sentence\"`, the output for `print(sentence[::-1])` will be as follow. Based on what you have learnt just now, try to print \"**sentence long very a is This**\"."
   ]
  },
  {
   "cell_type": "code",
   "execution_count": 2,
   "metadata": {},
   "outputs": [
    {
     "name": "stdout",
     "output_type": "stream",
     "text": [
      "ecnetnes gnol yrev a si sihT\n"
     ]
    }
   ],
   "source": [
    "sentence = \"This is a very long sentence\"\n",
    "print(sentence[::-1])"
   ]
  },
  {
   "cell_type": "code",
   "execution_count": 8,
   "metadata": {},
   "outputs": [
    {
     "name": "stdout",
     "output_type": "stream",
     "text": [
      "['This', 'is', 'a', 'very', 'long', 'sentence']\n",
      "['sentence', 'long', 'very', 'a', 'is', 'This']\n",
      "sentence long very a is This "
     ]
    },
    {
     "data": {
      "text/plain": [
       "[None, None, None, None, None, None]"
      ]
     },
     "execution_count": 8,
     "metadata": {},
     "output_type": "execute_result"
    }
   ],
   "source": [
    "# 1) split the words\n",
    "\n",
    "\n",
    "# 2) reverse the order\n",
    "\n",
    "\n",
    "\n",
    "# 3) print the item using list comprehension\n",
    "\n",
    "\n"
   ]
  },
  {
   "cell_type": "markdown",
   "metadata": {},
   "source": [
    "### 3. Two Dimension List"
   ]
  },
  {
   "cell_type": "code",
   "execution_count": 2,
   "metadata": {},
   "outputs": [
    {
     "name": "stdout",
     "output_type": "stream",
     "text": [
      "['2,5', '2,6', '2,7', '2,8']\n",
      "2,8\n",
      "['1,5', '1,6']\n",
      " 2,5 | 2,6 | 2,7 | 2,8\n"
     ]
    }
   ],
   "source": [
    "twoDimensionList = [[\"0,5\", \"0,6\", \"0,7\", \"0,8\"],\n",
    "                    [\"1,5\", \"1,6\", \"1,7\", \"1,8\"],\n",
    "                    [\"2,5\", \"2,6\", \"2,7\", \"2,8\"],\n",
    "                    [\"3,5\", \"3,6\", \"3,7\", \"3,8\"]]\n",
    "\n",
    "# twoDimensionList = [  0 [\"0,5\", \"0,6\", \"0,7\", \"0,8\"],\n",
    "#                       1 [\"1,5\", \"1,6\", \"1,7\", \"1,8\"],\n",
    "#                       2 [\"2,5\", \"2,6\", \"2,7\", \"2,8\"],\n",
    "#                       3 [\"3,5\", \"3,6\", \"3,7\", \"3,8\"]      ]\n",
    "#                            0      1      2      3\n",
    "\n",
    "print(twoDimensionList[2])\n",
    "print(twoDimensionList[2][3])\n",
    "print(twoDimensionList[1][0:2])\n",
    "print(\" %s | %s | %s | %s\" % tuple(twoDimensionList[2]))"
   ]
  },
  {
   "cell_type": "markdown",
   "metadata": {},
   "source": [
    "### Task 1: Cinema seating plan"
   ]
  },
  {
   "cell_type": "markdown",
   "metadata": {},
   "source": [
    "Given the list `seats`, use String formmating and the above seats list to the following content:"
   ]
  },
  {
   "cell_type": "code",
   "execution_count": 13,
   "metadata": {},
   "outputs": [
    {
     "name": "stdout",
     "output_type": "stream",
     "text": [
      "  [           Screen          ]\n",
      "\n",
      "A [1][2]    [3][4][5]    [6][7]\n",
      "B [1][2]    [3][x][x]    [6][7]\n",
      "C [x][x]    [3][4][5]    [6][7]\n",
      "D [1][2]    [x][x][x]    [x][x]\n"
     ]
    }
   ],
   "source": [
    "#   [           Screen          ]\n",
    "#\n",
    "# A [1][2]    [3][4][5]    [6][7]\n",
    "# B [1][2]    [3][x][x]    [6][7]\n",
    "# C [x][x]    [3][4][5]    [6][7]\n",
    "# D [1][2]    [x][x][x]    [x][x]\n",
    "\n",
    "seats = [\n",
    "    [\"A\", \"1\", \"2\", \"3\", \"4\", \"5\", \"6\", \"7\"],\n",
    "    [\"B\", \"1\", \"2\", \"3\", \"x\", \"x\", \"6\", \"7\"],\n",
    "    [\"C\", \"x\", \"x\", \"3\", \"4\", \"5\", \"6\", \"7\"],\n",
    "    [\"D\", \"1\", \"2\", \"x\", \"x\", \"x\", \"x\", \"x\"]\n",
    "]\n",
    "\n",
    "\n",
    "\n",
    "\n",
    "\n",
    "\n",
    "\n"
   ]
  },
  {
   "cell_type": "markdown",
   "metadata": {},
   "source": [
    "## Concept of sorting\n",
    "- There are many ways to perform sorting on a list\n",
    "- if you are not allow to use `list.sort()`, how can you use combinations of other methods to do that?"
   ]
  },
  {
   "cell_type": "code",
   "execution_count": 18,
   "metadata": {},
   "outputs": [],
   "source": [
    "x = [12,13,11,26]\n",
    "#    0  1  2  3 (index)"
   ]
  },
  {
   "cell_type": "markdown",
   "metadata": {},
   "source": [
    "### 1. min(): get the minimum value of a list"
   ]
  },
  {
   "cell_type": "code",
   "execution_count": 19,
   "metadata": {},
   "outputs": [
    {
     "name": "stdout",
     "output_type": "stream",
     "text": [
      "11\n"
     ]
    }
   ],
   "source": [
    "print(min(x))"
   ]
  },
  {
   "cell_type": "markdown",
   "metadata": {},
   "source": [
    "### 2. index(): get the index of a value in a list , x[2] is 11"
   ]
  },
  {
   "cell_type": "code",
   "execution_count": 23,
   "metadata": {},
   "outputs": [
    {
     "name": "stdout",
     "output_type": "stream",
     "text": [
      "2\n"
     ]
    }
   ],
   "source": [
    "print(x.index(11))"
   ]
  },
  {
   "cell_type": "markdown",
   "metadata": {},
   "source": [
    "### 3. remove(): remove the value from the list"
   ]
  },
  {
   "cell_type": "code",
   "execution_count": 24,
   "metadata": {},
   "outputs": [
    {
     "name": "stdout",
     "output_type": "stream",
     "text": [
      "['a', 'b', 'd']\n"
     ]
    }
   ],
   "source": [
    "temp = [\"a\",\"b\",\"c\",\"d\"]\n",
    "temp.remove(\"c\")\n",
    "print(temp)"
   ]
  },
  {
   "cell_type": "markdown",
   "metadata": {},
   "source": [
    "### 4. append(): add the value from the list"
   ]
  },
  {
   "cell_type": "code",
   "execution_count": 25,
   "metadata": {},
   "outputs": [
    {
     "name": "stdout",
     "output_type": "stream",
     "text": [
      "['a', 'b', 'd', 'z']\n"
     ]
    }
   ],
   "source": [
    "temp.append(\"z\")\n",
    "print(temp)"
   ]
  },
  {
   "cell_type": "markdown",
   "metadata": {},
   "source": [
    "### Task 4: sorting using min(), append(), and remove()\n",
    "Given x = [12,13,11,26], sort the list without using `sort()`\n",
    "\n",
    "Tips:  \n",
    "1. find the smallest number in list `x`, get the value, \n",
    "2. add it to `newList = []`, \n",
    "3. remove the value from the old list `x`\n",
    "4. repeat Step 1-2 until no element in list `x`"
   ]
  },
  {
   "cell_type": "code",
   "execution_count": 38,
   "metadata": {},
   "outputs": [
    {
     "name": "stdout",
     "output_type": "stream",
     "text": [
      "[12, 13, 11, 26]\n",
      "[]\n",
      "1st time\n",
      "\n",
      "[12, 13, 11, 26]\n",
      "[]\n",
      "2nd time\n",
      "\n",
      "[12, 13, 11, 26]\n",
      "[]\n",
      "3rd time\n",
      "\n",
      "[12, 13, 11, 26]\n",
      "[]\n",
      "4th time\n",
      "\n",
      "Finally, set x = newList\n",
      "[]\n"
     ]
    }
   ],
   "source": [
    "x = [12,13,11,26] # 4 elements\n",
    "newList = []\n",
    "\n",
    "# -----------------------------------\n",
    "\n",
    "\n",
    "\n",
    "\n",
    "\n",
    "\n",
    "\n",
    "#check result\n",
    "print(x)\n",
    "print(newList)\n",
    "print(\"1st time\")\n",
    "print()\n",
    "\n",
    "# -----------------------------------\n",
    "\n",
    "\n",
    "\n",
    "\n",
    "\n",
    "\n",
    "\n",
    "#check result\n",
    "print(x)\n",
    "print(newList)\n",
    "print(\"2nd time\")\n",
    "print()\n",
    "\n",
    "\n",
    "# -----------------------------------\n",
    "\n",
    "\n",
    "\n",
    "\n",
    "\n",
    "\n",
    "#check result\n",
    "print(x)\n",
    "print(newList)\n",
    "print(\"3rd time\")\n",
    "print()\n",
    "\n",
    "# -----------------------------------\n",
    "\n",
    "\n",
    "\n",
    "\n",
    "\n",
    "\n",
    "#check result\n",
    "print(x)\n",
    "print(newList)\n",
    "print(\"4th time\")\n",
    "print()\n",
    "\n",
    "\n",
    "\n",
    "print(\"Finally, set x = newList\")\n",
    "x = newList\n",
    "print(x)\n"
   ]
  },
  {
   "cell_type": "markdown",
   "metadata": {},
   "source": [
    "# Tuples\n",
    "- Tuple is immutable (size cannot change)\n",
    "- List is mutable (dynamic size)"
   ]
  },
  {
   "cell_type": "code",
   "execution_count": 39,
   "metadata": {},
   "outputs": [
    {
     "name": "stdout",
     "output_type": "stream",
     "text": [
      "[1, 2, 3, 4]\n",
      "(1, 2, 3, 4)\n",
      "[9, 2, 3, 4]\n"
     ]
    },
    {
     "ename": "TypeError",
     "evalue": "'tuple' object does not support item assignment",
     "output_type": "error",
     "traceback": [
      "\u001b[1;31m---------------------------------------------------------------------------\u001b[0m",
      "\u001b[1;31mTypeError\u001b[0m                                 Traceback (most recent call last)",
      "\u001b[1;32m<ipython-input-39-8adf4e4dfe46>\u001b[0m in \u001b[0;36m<module>\u001b[1;34m()\u001b[0m\n\u001b[0;32m      7\u001b[0m \u001b[0mprint\u001b[0m\u001b[1;33m(\u001b[0m\u001b[0mtemp_list\u001b[0m\u001b[1;33m)\u001b[0m\u001b[1;33m\u001b[0m\u001b[0m\n\u001b[0;32m      8\u001b[0m \u001b[1;33m\u001b[0m\u001b[0m\n\u001b[1;32m----> 9\u001b[1;33m \u001b[0mtemp_tuple\u001b[0m\u001b[1;33m[\u001b[0m\u001b[1;36m0\u001b[0m\u001b[1;33m]\u001b[0m \u001b[1;33m=\u001b[0m \u001b[1;36m9\u001b[0m \u001b[1;31m# error occurs here\u001b[0m\u001b[1;33m\u001b[0m\u001b[0m\n\u001b[0m\u001b[0;32m     10\u001b[0m \u001b[0mprint\u001b[0m\u001b[1;33m(\u001b[0m\u001b[0mtemp_tuple\u001b[0m\u001b[1;33m)\u001b[0m\u001b[1;33m\u001b[0m\u001b[0m\n",
      "\u001b[1;31mTypeError\u001b[0m: 'tuple' object does not support item assignment"
     ]
    }
   ],
   "source": [
    "temp_list = [1,2,3,4]\n",
    "temp_tuple = (1,2,3,4)\n",
    "print(temp_list)\n",
    "print(temp_tuple)\n",
    "\n",
    "temp_list[0] = 9 \n",
    "print(temp_list)\n",
    "\n",
    "temp_tuple[0] = 9 # error occurs here\n",
    "print(temp_tuple)"
   ]
  },
  {
   "cell_type": "markdown",
   "metadata": {},
   "source": [
    "### When do we use list or tuple?\n",
    "\n",
    "\n",
    "|                |  List |  Tuple  |\n",
    "|----------------|:--------:|:---------:|\n",
    "|Number of items |Dynamic|Fixed|\n",
    "|Change of value | ✓|  ✕ |\n",
    "\n",
    "Depending on different situations, list can also be used if number of items is fixed.\n",
    "\n",
    "#### Examples of using tuple:"
   ]
  },
  {
   "cell_type": "code",
   "execution_count": 40,
   "metadata": {},
   "outputs": [],
   "source": [
    "# x, y coordinate\n",
    "ptA = (1,3)\n",
    "origin = (0,0)\n",
    "\n",
    "hong_kong = (22.28552, 114.15769)\n",
    "student_record = (\"20123456\", \"CHAN\", \"Tai Man\", \"1999-01-01\", \"M\") # the items / content are fixed by the system"
   ]
  },
  {
   "cell_type": "markdown",
   "metadata": {},
   "source": [
    "#### Example of using list and tuple together:"
   ]
  },
  {
   "cell_type": "code",
   "execution_count": 41,
   "metadata": {},
   "outputs": [
    {
     "name": "stdout",
     "output_type": "stream",
     "text": [
      "[('Hong Kong', 22.28552, 114.15769), ('Los Angeles', 34.05223, -118.24368), ('Toyko', 35.6895, 139.69171)]\n"
     ]
    },
    {
     "data": {
      "text/plain": [
       "(22.28552, 114.15769)"
      ]
     },
     "execution_count": 41,
     "metadata": {},
     "output_type": "execute_result"
    }
   ],
   "source": [
    "# The format is (City, Latitude, Longitude)\n",
    "\n",
    "cities = [\n",
    "    (\"Hong Kong\", 22.28552, 114.15769),\n",
    "    (\"Los Angeles\", 34.05223, -118.24368),\n",
    "    (\"Toyko\",35.6895, 139.69171)\n",
    "    # etc\n",
    "]\n",
    "\n",
    "print(cities)\n",
    "cities[0][1:3]"
   ]
  },
  {
   "cell_type": "markdown",
   "metadata": {},
   "source": [
    "#### Advantage\n",
    "- You can add or delete tuple data within the list, but the size and format of existing data (i.e. other tuple elements such as Hong Kong and Tokyo) remain fixed."
   ]
  },
  {
   "cell_type": "code",
   "execution_count": 42,
   "metadata": {},
   "outputs": [
    {
     "name": "stdout",
     "output_type": "stream",
     "text": [
      "[('Hong Kong', 22.28552, 114.15769), ('Toyko', 35.6895, 139.69171), ('1', 2)]\n"
     ]
    }
   ],
   "source": [
    "cities.append((\"1\",2))\n",
    "cities.remove((\"Los Angeles\", 34.05223, -118.24368))\n",
    "\n",
    "print(cities)"
   ]
  },
  {
   "cell_type": "code",
   "execution_count": null,
   "metadata": {},
   "outputs": [],
   "source": []
  }
 ],
 "metadata": {
  "kernelspec": {
   "display_name": "Python 3",
   "language": "python",
   "name": "python3"
  },
  "language_info": {
   "codemirror_mode": {
    "name": "ipython",
    "version": 3
   },
   "file_extension": ".py",
   "mimetype": "text/x-python",
   "name": "python",
   "nbconvert_exporter": "python",
   "pygments_lexer": "ipython3",
   "version": "3.6.5"
  }
 },
 "nbformat": 4,
 "nbformat_minor": 2
}
