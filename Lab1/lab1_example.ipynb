{
 "cells": [
  {
   "cell_type": "markdown",
   "metadata": {
    "slideshow": {
     "slide_type": "slide"
    }
   },
   "source": [
    "# Markdown for Jupyter notebooks cheatsheet\n",
    "\n",
    "#### References:\n",
    "- https://www.ibm.com/support/knowledgecenter/en/SSGNPV/eventstore/dsx/markd-jupyter.html\n",
    "- https://jupyter-notebook.readthedocs.io/en/stable/examples/Notebook/Working%20With%20Markdown%20Cells.html\n",
    "\n",
    "\n",
    "You can use Markdown to format documentation you add to Markdown cells in your Jupyter notebook.\n",
    "\n",
    "Here's how to format Markdown cells in Jupyter notebooks:\n",
    "\n",
    "## Headings\n",
    "Use the number sign (#) followed by a blank space for notebook titles and section headings:\n",
    "\n",
    "```\n",
    "# for titles\n",
    "## for major headings\n",
    "### for subheadings\n",
    "#### for 4th level subheadings\n",
    "```\n",
    "# titles\n",
    "## for major headings\n",
    "### for subheadings\n",
    "#### for 4th level subheadings\n",
    "\n",
    "***\n",
    "\n",
    "## Emphasis\n",
    "\n",
    "Use the following code to emphasize text:\n",
    "```\n",
    "Bold text: __string__ or **string**\n",
    "Italic text: _string_ or *string*\n",
    "```\n",
    "**Bold text**\n",
    "_Italic text_\n",
    "\n",
    "***\n",
    "\n",
    "## Monospace font\n",
    "Surround text with a grave accent (\\`) also called a back single quotation mark, for example:\n",
    "```\n",
    "`string`\n",
    "```\n",
    "`string`\n",
    "\n",
    "You can use the monospace font for `file paths`, `file names`, `message text` that users see, or text that users enter.\n",
    "\n",
    "## Line breaks\n",
    "Sometimes markdown doesn’t make line breaks when you want them. To force a linebreak, use the following code: `<br>`\n",
    "\n",
    "## Indenting\n",
    "Use the greater than sign (>) followed by a space, for example:\n",
    "```\n",
    "> Text that will be indented when the Markdown is rendered.\n",
    "Any subsequent text is indented until the next carriage return.\n",
    "```\n",
    "> Text that will be indented when the Markdown is rendered.\n",
    "Any subsequent text is indented until the next carriage return.\n",
    "\n",
    "\n",
    "## Bullets\n",
    "To create a circular bullet point, use one of the following methods. Each bullet point must be on its own line.\n",
    "\n",
    "- A hyphen (-) followed by one or two spaces, for example: `- Bulleted item`\n",
    "- A space, a hyphen (-) and a space, for example: ` - Bulleted item`\n",
    "- An asterisk (\\*) followed by one or two spaces, for example: `* Bulleted item`\n",
    "\n",
    "To create a sub bullet, press Tab before entering the bullet point using one of the methods described above. For example:\n",
    "```\n",
    "- Main bullet point\n",
    "     - Sub bullet point 1\n",
    "         - Sub bullet point 2\n",
    "             - Sub bullet point 3\n",
    "```\n",
    "\n",
    "- Main bullet point\n",
    "     - Sub bullet point 1\n",
    "         - Sub bullet point 2\n",
    "             - Sub bullet point 3\n",
    "\n",
    "## Numbered lists\n",
    "To create a numbered list, enter 1. followed by a space, for example:\n",
    "```\n",
    "1. Numbered item\n",
    "1. Numbered item\n",
    "```\n",
    "1. Numbered item\n",
    "1. Numbered item\n",
    "\n",
    "For simplicity, you use 1. before each entry. The list will be numbered correctly when you run the cell.\n",
    "\n",
    "To create a substep, press Tab before entering the numbered item, for example:\n",
    "```\n",
    "1. Numbered item\n",
    "     1. Substep 1\n",
    "         1. Substep 2\n",
    "             1. Substep 3\n",
    "                 1. Substep 4\n",
    "```\n",
    "\n",
    "1. Numbered item\n",
    "     1. Substep 1\n",
    "         1. Substep 2\n",
    "             1. Substep 3\n",
    "                 1. Substep 4\n",
    "                 \n",
    "\n",
    "## Graphics\n",
    "You can attach image files directly to a notebook in Markdown cells by dragging and dropping it into the cell.\n",
    "To add images to other types of cells, you must use a graphic that is hosted on the web and use the following code to insert the graphic:\n",
    "```\n",
    "<img src=\"url.gif\" alt=\"Alt text that describes the graphic\" title=\"Title text\" />\n",
    "```\n"
   ]
  },
  {
   "cell_type": "code",
   "execution_count": 2,
   "metadata": {},
   "outputs": [
    {
     "name": "stdout",
     "output_type": "stream",
     "text": [
      "Text\n"
     ]
    },
    {
     "data": {
      "text/plain": [
       "7"
      ]
     },
     "execution_count": 2,
     "metadata": {},
     "output_type": "execute_result"
    }
   ],
   "source": [
    "print(\"Text\")\n",
    "1+6"
   ]
  },
  {
   "cell_type": "code",
   "execution_count": null,
   "metadata": {},
   "outputs": [],
   "source": []
  }
 ],
 "metadata": {
  "kernelspec": {
   "display_name": "Python 3",
   "language": "python",
   "name": "python3"
  },
  "language_info": {
   "codemirror_mode": {
    "name": "ipython",
    "version": 3
   },
   "file_extension": ".py",
   "mimetype": "text/x-python",
   "name": "python",
   "nbconvert_exporter": "python",
   "pygments_lexer": "ipython3",
   "version": "3.6.5"
  }
 },
 "nbformat": 4,
 "nbformat_minor": 2
}
