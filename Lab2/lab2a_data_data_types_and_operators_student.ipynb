{
 "cells": [
  {
   "cell_type": "markdown",
   "metadata": {
    "colab_type": "text",
    "id": "IJXZu7lms8iG"
   },
   "source": [
    "# Variables & Values"
   ]
  },
  {
   "cell_type": "markdown",
   "metadata": {},
   "source": [
    "## Task 1 & 2\n",
    "\n",
    "\n",
    "1. Create variables x and y, and assign the values 20, 25 respectively.\n",
    "2. Use print() to print out the values of variables x and y."
   ]
  },
  {
   "cell_type": "code",
   "execution_count": 1,
   "metadata": {
    "colab": {
     "autoexec": {
      "startup": false,
      "wait_interval": 0
     }
    },
    "colab_type": "code",
    "id": "-bpyQCNntnXp"
   },
   "outputs": [
    {
     "name": "stdout",
     "output_type": "stream",
     "text": [
      "20 25\n"
     ]
    }
   ],
   "source": [
    "x = 20\n",
    "y = 25\n",
    "print(x, y)"
   ]
  },
  {
   "cell_type": "markdown",
   "metadata": {
    "colab_type": "text",
    "id": "0seFdg4DvGj_"
   },
   "source": [
    "# Data types"
   ]
  },
  {
   "cell_type": "markdown",
   "metadata": {},
   "source": [
    "## Task 3\n",
    "* ***type(var)*** is used to check the data type of a variable\n",
    "* You can use print(type(var)) to show the data type of the above variables"
   ]
  },
  {
   "cell_type": "code",
   "execution_count": 3,
   "metadata": {
    "colab": {
     "autoexec": {
      "startup": false,
      "wait_interval": 0
     },
     "base_uri": "https://localhost:8080/",
     "height": 34
    },
    "colab_type": "code",
    "executionInfo": {
     "elapsed": 685,
     "status": "ok",
     "timestamp": 1532628831093,
     "user": {
      "displayName": "wong kachau",
      "photoUrl": "https://lh3.googleusercontent.com/a/default-user=s128",
      "userId": "111717911065052376046"
     },
     "user_tz": -480
    },
    "id": "-sUY-faXvGKv",
    "outputId": "a7eb0ec4-fc70-4f77-dd0e-8857b09db93f"
   },
   "outputs": [
    {
     "name": "stdout",
     "output_type": "stream",
     "text": [
      "<class 'float'>\n",
      "<class 'int'>\n",
      "<class 'complex'>\n",
      "<class 'str'>\n",
      "<class 'bool'>\n",
      "<class 'int'>\n",
      "<class 'int'>\n"
     ]
    }
   ],
   "source": [
    "a = 1.0\n",
    "b = 1\n",
    "c = 1+2j\n",
    "d = \"1\"\n",
    "e = True\n",
    "f = True * 1\n",
    "g = False * 1\n",
    "\n",
    "print(type(a))\n",
    "print(type(b))\n",
    "print(type(c))\n",
    "print(type(d))\n",
    "print(type(e))\n",
    "print(type(f))\n",
    "print(type(g))"
   ]
  },
  {
   "cell_type": "markdown",
   "metadata": {},
   "source": [
    "## Task 4\n",
    "\n",
    "Try to print out the value and data type of combinations: a + b/c/d/e"
   ]
  },
  {
   "cell_type": "markdown",
   "metadata": {},
   "source": [
    "<b>4.1 What is the value of a+b? What will be the data type of a+b?</b>"
   ]
  },
  {
   "cell_type": "code",
   "execution_count": 4,
   "metadata": {},
   "outputs": [
    {
     "name": "stdout",
     "output_type": "stream",
     "text": [
      "2.0\n",
      "<class 'float'>\n"
     ]
    }
   ],
   "source": [
    "print(a+b)\n",
    "print(type(a+b))"
   ]
  },
  {
   "cell_type": "markdown",
   "metadata": {},
   "source": [
    "<b>4.2 What is the value of a+c? What will be the data type of a+c?</b>"
   ]
  },
  {
   "cell_type": "code",
   "execution_count": 5,
   "metadata": {},
   "outputs": [
    {
     "name": "stdout",
     "output_type": "stream",
     "text": [
      "(2+2j)\n",
      "<class 'complex'>\n"
     ]
    }
   ],
   "source": [
    "print(a+c)\n",
    "print(type(a+c))"
   ]
  },
  {
   "cell_type": "markdown",
   "metadata": {},
   "source": [
    "<b>4.3 What is the value of a+d?</b>"
   ]
  },
  {
   "cell_type": "code",
   "execution_count": 6,
   "metadata": {},
   "outputs": [
    {
     "name": "stdout",
     "output_type": "stream",
     "text": [
      "2.0\n"
     ]
    },
    {
     "ename": "TypeError",
     "evalue": "unsupported operand type(s) for +: 'float' and 'str'",
     "output_type": "error",
     "traceback": [
      "\u001b[1;31m---------------------------------------------------------------------------\u001b[0m",
      "\u001b[1;31mTypeError\u001b[0m                                 Traceback (most recent call last)",
      "\u001b[1;32m<ipython-input-6-c2690cd48f19>\u001b[0m in \u001b[0;36m<module>\u001b[1;34m()\u001b[0m\n\u001b[0;32m      1\u001b[0m \u001b[0mprint\u001b[0m\u001b[1;33m(\u001b[0m\u001b[0ma\u001b[0m\u001b[1;33m+\u001b[0m\u001b[0mb\u001b[0m\u001b[1;33m)\u001b[0m\u001b[1;33m\u001b[0m\u001b[0m\n\u001b[1;32m----> 2\u001b[1;33m \u001b[0mprint\u001b[0m\u001b[1;33m(\u001b[0m\u001b[0mtype\u001b[0m\u001b[1;33m(\u001b[0m\u001b[0ma\u001b[0m\u001b[1;33m+\u001b[0m\u001b[0md\u001b[0m\u001b[1;33m)\u001b[0m\u001b[1;33m)\u001b[0m\u001b[1;33m\u001b[0m\u001b[0m\n\u001b[0m",
      "\u001b[1;31mTypeError\u001b[0m: unsupported operand type(s) for +: 'float' and 'str'"
     ]
    }
   ],
   "source": [
    "print(a+b)\n",
    "print(type(a+d))"
   ]
  },
  {
   "cell_type": "markdown",
   "metadata": {},
   "source": [
    "#### What happened? Why?"
   ]
  },
  {
   "cell_type": "markdown",
   "metadata": {},
   "source": [
    "<b>4.4 What is the value of a+e?</b>"
   ]
  },
  {
   "cell_type": "code",
   "execution_count": 7,
   "metadata": {},
   "outputs": [
    {
     "name": "stdout",
     "output_type": "stream",
     "text": [
      "2.0\n",
      "<class 'float'>\n"
     ]
    }
   ],
   "source": [
    "print(a+e)\n",
    "print(type(a+e))"
   ]
  },
  {
   "cell_type": "markdown",
   "metadata": {},
   "source": [
    "# Arithmetic Operators\n",
    "\n",
    "| Symbol | Task Performed |\n",
    "|----|---|\n",
    "| +  | Addition |\n",
    "| -  | Subtraction |\n",
    "| /  | division |\n",
    "| %  | mod |\n",
    "| *  | multiplication |\n",
    "| //  | floor division |\n",
    "| **  | to the power of |"
   ]
  },
  {
   "cell_type": "markdown",
   "metadata": {
    "colab_type": "text",
    "id": "is8KNKHW0RcI"
   },
   "source": [
    "# Relational Operators\n",
    "\n",
    "| Symbol | Task Performed |\n",
    "|----|---|\n",
    "| == | True, if the value is equal |\n",
    "| !=  | True, if not equal to |\n",
    "| < | less than |\n",
    "| > | greater than |\n",
    "| <=  | less than or equal to |\n",
    "| >=  | greater than or equal to |"
   ]
  },
  {
   "cell_type": "markdown",
   "metadata": {},
   "source": [
    "## Task 5: Odd or Even?"
   ]
  },
  {
   "cell_type": "markdown",
   "metadata": {},
   "source": [
    "You can use the % (mod operator) to determine odd / even the given number is.<br>\n",
    "<br>\n",
    "<li>Question: modify the following 2 lines such that ***isOdd*** equals ***False*** and ***isEven*** equals ***True*** when the variable number = 8.\n",
    " \n",
    " number = 8\n",
    " \n",
    " isOdd = ........  \n",
    " isEven = .......\n"
   ]
  },
  {
   "cell_type": "code",
   "execution_count": 9,
   "metadata": {},
   "outputs": [
    {
     "name": "stdout",
     "output_type": "stream",
     "text": [
      "False True\n"
     ]
    }
   ],
   "source": [
    "number = 8\n",
    "isOdd = number % 2 == 1\n",
    "isEven = number % 2 == 0\n",
    "print(isOdd, isEven)"
   ]
  },
  {
   "cell_type": "markdown",
   "metadata": {},
   "source": [
    "## Task 6"
   ]
  },
  {
   "cell_type": "markdown",
   "metadata": {},
   "source": [
    "Use the relational operators to compare the following pairs:\n",
    "1. `a` and `b`\n",
    "2. `a` and `d`\n",
    "3. `a` and `e`\n",
    "4. 1 and True\n",
    "5. 0 and False"
   ]
  },
  {
   "cell_type": "code",
   "execution_count": 11,
   "metadata": {
    "colab": {
     "autoexec": {
      "startup": false,
      "wait_interval": 0
     },
     "base_uri": "https://localhost:8080/",
     "height": 68
    },
    "colab_type": "code",
    "executionInfo": {
     "elapsed": 690,
     "status": "ok",
     "timestamp": 1532629589298,
     "user": {
      "displayName": "wong kachau",
      "photoUrl": "https://lh3.googleusercontent.com/a/default-user=s128",
      "userId": "111717911065052376046"
     },
     "user_tz": -480
    },
    "id": "rDBhh9H_0P7h",
    "outputId": "598228a9-1483-45b1-d2c6-660a3dcad807"
   },
   "outputs": [
    {
     "name": "stdout",
     "output_type": "stream",
     "text": [
      "True\n",
      "False\n",
      "True\n",
      "True\n",
      "True\n"
     ]
    }
   ],
   "source": [
    "a = 1.0\n",
    "b = 1\n",
    "c = 1+2j\n",
    "d = \"1\"\n",
    "e = True\n",
    "f = True * 1\n",
    "g = False * 1\n",
    "\n",
    "print(a == b)\n",
    "print(a == d)\n",
    "print(a == e)\n",
    "print(1 == True)\n",
    "print(0 == False)"
   ]
  },
  {
   "cell_type": "markdown",
   "metadata": {
    "colab_type": "text",
    "id": "hiqC2b582lJG"
   },
   "source": [
    "# Build in Function"
   ]
  },
  {
   "cell_type": "markdown",
   "metadata": {},
   "source": [
    "The Python interpreter has a number of functions and types built into it that are always available: <a>https://docs.python.org/3.6/library/functions.html</a>\n",
    "\n",
    "\n",
    "From the above webpage, choose a suitable build-in function that **return the length of the variable `text`**"
   ]
  },
  {
   "cell_type": "code",
   "execution_count": 12,
   "metadata": {},
   "outputs": [
    {
     "name": "stdout",
     "output_type": "stream",
     "text": [
      "20\n"
     ]
    }
   ],
   "source": [
    "text = \"Welcome to ISOM3400!\"\n",
    "\n",
    "print(len(text))"
   ]
  },
  {
   "cell_type": "markdown",
   "metadata": {},
   "source": [
    "# Accepting User Inputs"
   ]
  },
  {
   "cell_type": "markdown",
   "metadata": {},
   "source": [
    "## Task 7\n",
    "Write a program which requires a user to input his or her `lastname` and `Firstname` so that the computer will return **\"Hello! CHAN, Tai Man\"** on the screen.\n",
    "\n",
    "* Note: No matter what a user type, you should convert the variable `lastname` to UPPERCASE (e.g. chan => CHAN) and variable `Firstname` to Title (e.g. tai man => Tai Man).\n"
   ]
  },
  {
   "cell_type": "code",
   "execution_count": 13,
   "metadata": {
    "colab": {
     "autoexec": {
      "startup": false,
      "wait_interval": 0
     },
     "base_uri": "https://localhost:8080/",
     "height": 34
    },
    "colab_type": "code",
    "executionInfo": {
     "elapsed": 681,
     "status": "ok",
     "timestamp": 1532630002237,
     "user": {
      "displayName": "wong kachau",
      "photoUrl": "https://lh3.googleusercontent.com/a/default-user=s128",
      "userId": "111717911065052376046"
     },
     "user_tz": -480
    },
    "id": "tkKrmQO72o05",
    "outputId": "0466edea-6048-4285-e1f8-1230fd7c1929"
   },
   "outputs": [
    {
     "name": "stdout",
     "output_type": "stream",
     "text": [
      "What is your lastname? chan\n",
      "What is your firstname? tai man\n",
      "Hello! CHAN, Tai Man\n"
     ]
    }
   ],
   "source": [
    "lastname = input(\"What is your lastname? \")\n",
    "firstname = input(\"What is your firstname? \")\n",
    "print(\"Hello!\", lastname.upper()+\",\" , firstname.title())"
   ]
  },
  {
   "cell_type": "markdown",
   "metadata": {},
   "source": [
    "## Task 8"
   ]
  },
  {
   "cell_type": "markdown",
   "metadata": {},
   "source": [
    "The following are totally acceptable in python:\n",
    "\n",
    "* passing a string representation of an integer into `int`\n",
    "* passing a string representation of a float into `float` \n",
    "* passing a string representation of an integer into `float`\n",
    "* passing a float into `int`\n",
    "* passing an integer into `float`"
   ]
  },
  {
   "cell_type": "markdown",
   "metadata": {},
   "source": [
    "Try to run the following codes and intepret the result:"
   ]
  },
  {
   "cell_type": "code",
   "execution_count": 14,
   "metadata": {},
   "outputs": [
    {
     "name": "stdout",
     "output_type": "stream",
     "text": [
      "Please input 5: 5\n",
      "Does the input value equal 5?\n",
      "False\n"
     ]
    }
   ],
   "source": [
    "inputNum_5 = input(\"Please input 5: \")\n",
    "print(\"Does the input value equal 5?\")\n",
    "print(inputNum_5 == 5)"
   ]
  },
  {
   "cell_type": "code",
   "execution_count": 15,
   "metadata": {},
   "outputs": [
    {
     "name": "stdout",
     "output_type": "stream",
     "text": [
      "Does the input value equal string value '5'?\n",
      "True\n"
     ]
    }
   ],
   "source": [
    "print(\"Does the input value equal string value '5'?\")\n",
    "print(inputNum_5 == '5')"
   ]
  },
  {
   "cell_type": "markdown",
   "metadata": {},
   "source": [
    "**What can you conclude from the above result?**"
   ]
  },
  {
   "cell_type": "markdown",
   "metadata": {},
   "source": [
    "**Task 8.1: Modify the following line such that the comparison \"inputNum_6 == 6\" returns `True`**"
   ]
  },
  {
   "cell_type": "code",
   "execution_count": 16,
   "metadata": {},
   "outputs": [
    {
     "name": "stdout",
     "output_type": "stream",
     "text": [
      "Please input 6: 6\n",
      "True\n"
     ]
    }
   ],
   "source": [
    "inputNum_6 = int(input(\"Please input 6: \"))\n",
    "print(inputNum_6 == 6)"
   ]
  },
  {
   "cell_type": "markdown",
   "metadata": {},
   "source": [
    "# Summary\n",
    "\n",
    "## Variables\n",
    "\n",
    "### Naming rules and conventions\n",
    "\n",
    "#### Rules\n",
    "* Variables names must start with a letter or an underscore\n",
    "  * _variable\n",
    "  * variable_\n",
    "  * var_able\n",
    "  \n",
    "   x var-1\n",
    "* Variable name may consist of letters, numbers and underscores.\n",
    "  * Var_name_1\n",
    "* Variable Names are case sensitive.\n",
    "  * case_sensitive =/= CASE_SENSITIVE =/= Case_Sensitive\n",
    "\n",
    "#### Conventions\n",
    "\n",
    "* Readability\n",
    "  * python_programming\n",
    "  * pythonprogramming\n",
    "  * pythonProgramming\n",
    "* Avoid\n",
    "  * lowercase letter ‘l’\n",
    "  * uppercase ‘O’\n",
    "  * uppercase ‘I’\n",
    "\n",
    "### Assignment\n",
    "* var1 = 1\n",
    "* var2 = \"text\"\n",
    "* var3 = var4 = 5\n",
    "* var5, var6 = 3, 7\n",
    "\n",
    "## Data Types\n",
    "\n",
    "* Numbers\n",
    "  * int\n",
    "  * float\n",
    "  * complex\n",
    "* Boolean  \n",
    "* String\n",
    "* List\n",
    "* Tuple\n",
    "* Dictionary\n",
    "\n",
    "## Operators\n",
    "\n",
    "### Arithmetic Operators\n",
    "\n",
    "| Symbol | Task Performed |\n",
    "|----|---|\n",
    "| +  | Addition |\n",
    "| -  | Subtraction |\n",
    "| /  | division |\n",
    "| %  | mod |\n",
    "| *  | multiplication |\n",
    "| //  | floor division |\n",
    "| **  | to the power of |\n",
    "\n",
    "### Relational Operators\n",
    "\n",
    "| Symbol | Task Performed |\n",
    "|----|---|\n",
    "| == | True, if it is equal |\n",
    "| !=  | True, if not equal to |\n",
    "| < | less than |\n",
    "| > | greater than |\n",
    "| <=  | less than or equal to |\n",
    "| >=  | greater than or equal to |\n",
    "\n",
    "Note the difference between `==` (equality test) and `=` (assignment)\n",
    "\n",
    "### Boolean and Bitwise Operators\n",
    "\n",
    "|Operator|Meaning | \n",
    "|----|--- | \n",
    "|`and`| Logical and | \n",
    "|`or` | Logical or |\n",
    "|`not` | Not |\n",
    "\n",
    "| Symbol | Task Performed |\n",
    "|----|---|\n",
    "| &  | Bitwise And |\n",
    "| $\\mid$  | Bitwise OR |\n",
    "|  ^  | Exclusive or |\n",
    "| ~  | Negate |\n",
    "|  >>  | Right shift |\n",
    "|  <<  | Left shift |\n",
    "\n",
    "### Truth Table\n",
    "\n",
    "|a|b | | ( a & b) | (a  $\\mid$ b) |(a ^ b)|\n",
    "|----|--- | |----|---|---|\n",
    "|`True`| `True` | | `True`  | `True` | `False`\n",
    "|`True` | `False` | | `False`  | `True` | `True`\n",
    "|`False` | `True` | |  `False`  | `True` | `True`\n",
    "|`False` | `False` | | `False`  | `False` |`False`\n",
    "\n",
    "\n",
    "|a|b | | ( a & b) | (a  $\\mid$ b) |(a ^ b)|\n",
    "|----|--- | |----|---|---|\n",
    "|`1`| `1` | | `1`  | `1` | `0`\n",
    "|`1` | `0` | | `0`  | `1` | `1`\n",
    "|`0` | `1` | |  `0`  | `1` | `1`\n",
    "|`0` | `0` | | `0`  | `0` |`0`"
   ]
  },
  {
   "cell_type": "code",
   "execution_count": null,
   "metadata": {},
   "outputs": [],
   "source": []
  }
 ],
 "metadata": {
  "colab": {
   "collapsed_sections": [],
   "default_view": {},
   "name": "Lab2.ipynb",
   "provenance": [],
   "toc_visible": true,
   "version": "0.3.2",
   "views": {}
  },
  "kernelspec": {
   "display_name": "Python 3",
   "language": "python",
   "name": "python3"
  },
  "language_info": {
   "codemirror_mode": {
    "name": "ipython",
    "version": 3
   },
   "file_extension": ".py",
   "mimetype": "text/x-python",
   "name": "python",
   "nbconvert_exporter": "python",
   "pygments_lexer": "ipython3",
   "version": "3.6.5"
  }
 },
 "nbformat": 4,
 "nbformat_minor": 1
}
