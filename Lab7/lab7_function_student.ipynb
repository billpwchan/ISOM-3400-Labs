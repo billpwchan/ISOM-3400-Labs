{
 "cells": [
  {
   "cell_type": "markdown",
   "metadata": {},
   "source": [
    "### Task 1\n",
    "\n",
    "Write a function `pv()` to calculate the Present Value of a Single Cash Flow\n",
    "\n",
    "input:\n",
    "- Future Value (fv):\t15000\n",
    "- Annual Interest Rate (r):\t4%\n",
    "- Number of Years (t):\t5\n",
    "\n",
    "output:\n",
    "- Present Value:\t= 15000/(1+0.04)^5 = 12328.906601390276\n",
    "\n",
    "###### pv(15000,0.04,5)"
   ]
  },
  {
   "cell_type": "code",
   "execution_count": 1,
   "metadata": {
    "colab": {
     "autoexec": {
      "startup": false,
      "wait_interval": 0
     },
     "base_uri": "https://localhost:8080/",
     "height": 34
    },
    "colab_type": "code",
    "executionInfo": {
     "elapsed": 545,
     "status": "ok",
     "timestamp": 1532634644537,
     "user": {
      "displayName": "wong kachau",
      "photoUrl": "https://lh3.googleusercontent.com/a/default-user=s128",
      "userId": "111717911065052376046"
     },
     "user_tz": -480
    },
    "id": "GRpcSlAGGU8A",
    "outputId": "d5ae8ffe-2f60-4b53-f72a-7faf2281dd0b"
   },
   "outputs": [],
   "source": [
    "\n"
   ]
  },
  {
   "cell_type": "markdown",
   "metadata": {},
   "source": [
    "### Task 2\n",
    "\n",
    "Write a function `isPrime()` to check whether the input number is a Prime number\n",
    "\n",
    "- input: 1 integer\n",
    "- output: boolean True / False"
   ]
  },
  {
   "cell_type": "code",
   "execution_count": 2,
   "metadata": {
    "colab": {
     "autoexec": {
      "startup": false,
      "wait_interval": 0
     }
    },
    "colab_type": "code",
    "id": "ZicPW1xowX4T"
   },
   "outputs": [],
   "source": [
    "\n",
    "\n",
    "\n",
    "\n",
    "\n",
    "# isPrime(9) return False\n",
    "# isPrime(23) return True"
   ]
  },
  {
   "cell_type": "markdown",
   "metadata": {},
   "source": [
    "### Task 3\n",
    "\n",
    "Write a function `multiply(*numbers)` to multiply all the numbers in a list\n",
    "\n",
    "\n",
    "- input: 8, 2, 3, -1, 7\n",
    "\n",
    "- expected output : -336 \n"
   ]
  },
  {
   "cell_type": "code",
   "execution_count": 1,
   "metadata": {
    "colab": {
     "autoexec": {
      "startup": false,
      "wait_interval": 0
     }
    },
    "colab_type": "code",
    "id": "2v69XCKmwX4Z"
   },
   "outputs": [],
   "source": [
    "\n",
    "\n",
    "\n",
    "\n",
    "# multiply(8, 2, 3, -1, 7)"
   ]
  },
  {
   "cell_type": "markdown",
   "metadata": {},
   "source": [
    "### Cinema Seating plan\n",
    "### Task 4\n",
    "\n",
    "Print function\n",
    "\n",
    "Write a function named `printSeats()` to print the seating plan of a house\n",
    "\n",
    "``` python\n",
    "seats = [\n",
    "    [\"01\", \"02\", \"03\", \"04\", \"05\", \"06\", \"07\"],\n",
    "    [\"01\", \"02\", \"03\", \"xx\", \"xx\", \"06\", \"07\"],\n",
    "    [\"xx\", \"xx\", \"03\", \"04\", \"05\", \"06\", \"07\"],\n",
    "    [\"01\", \"02\", \"xx\", \"xx\", \"xx\", \"xx\", \"xx\"]\n",
    "]\n",
    "\n",
    "# expectation:\n",
    "\n",
    "printSeats(seats,2,4,1)\n",
    "printSeats(seats,1,5,1)\n",
    "printSeats(seats,3,1,3)\n",
    "printSeats(seats,3,4)\n",
    "printSeats(seats)\n",
    "\n",
    "'''\n",
    "[               Screen               ]\n",
    "\n",
    "A [01][02]    [03][04][05][06]    [07]\n",
    "B [01][02]    [03][xx][xx][06]    [07]\n",
    "C [xx][xx]    [03][04][05][06]    [07]\n",
    "D [01][02]    [xx][xx][xx][xx]    [xx]\n",
    "\n",
    "[               Screen               ]\n",
    "\n",
    "A [01]    [02][03][04][05][06]    [07]\n",
    "B [01]    [02][03][xx][xx][06]    [07]\n",
    "C [xx]    [xx][03][04][05][06]    [07]\n",
    "D [01]    [02][xx][xx][xx][xx]    [xx]\n",
    "\n",
    "[               Screen               ]\n",
    "\n",
    "A [01][02][03]    [04]    [05][06][07]\n",
    "B [01][02][03]    [xx]    [xx][06][07]\n",
    "C [xx][xx][03]    [04]    [05][06][07]\n",
    "D [01][02][xx]    [xx]    [xx][xx][xx]\n",
    "\n",
    "[             Screen             ]\n",
    "\n",
    "A [01][02][03]    [04][05][06][07]\n",
    "B [01][02][03]    [xx][xx][06][07]\n",
    "C [xx][xx][03]    [04][05][06][07]\n",
    "D [01][02][xx]    [xx][xx][xx][xx]\n",
    "\n",
    "[           Screen           ]\n",
    "\n",
    "A [01][02][03][04][05][06][07]\n",
    "B [01][02][03][xx][xx][06][07]\n",
    "C [xx][xx][03][04][05][06][07]\n",
    "D [01][02][xx][xx][xx][xx][xx]\n",
    "'''\n",
    "```"
   ]
  },
  {
   "cell_type": "code",
   "execution_count": 64,
   "metadata": {},
   "outputs": [
    {
     "name": "stdout",
     "output_type": "stream",
     "text": [
      "[               Screen               ]\n",
      "\n",
      "A [01][02]    [03][04][05][06]    [07]\n",
      "B [01][02]    [03][xx][xx][06]    [07]\n",
      "C [xx][xx]    [03][04][05][06]    [07]\n",
      "D [01][02]    [xx][xx][xx][xx]    [xx]\n",
      "\n",
      "[               Screen               ]\n",
      "\n",
      "A [01]    [02][03][04][05][06]    [07]\n",
      "B [01]    [02][03][xx][xx][06]    [07]\n",
      "C [xx]    [xx][03][04][05][06]    [07]\n",
      "D [01]    [02][xx][xx][xx][xx]    [xx]\n",
      "\n",
      "[               Screen               ]\n",
      "\n",
      "A [01][02][03]    [04]    [05][06][07]\n",
      "B [01][02][03]    [xx]    [xx][06][07]\n",
      "C [xx][xx][03]    [04]    [05][06][07]\n",
      "D [01][02][xx]    [xx]    [xx][xx][xx]\n",
      "\n",
      "[             Screen             ]\n",
      "\n",
      "A [01][02][03]    [04][05][06][07]\n",
      "B [01][02][03]    [xx][xx][06][07]\n",
      "C [xx][xx][03]    [04][05][06][07]\n",
      "D [01][02][xx]    [xx][xx][xx][xx]\n",
      "\n",
      "[           Screen           ]\n",
      "\n",
      "A [01][02][03][04][05][06][07]\n",
      "B [01][02][03][xx][xx][06][07]\n",
      "C [xx][xx][03][04][05][06][07]\n",
      "D [01][02][xx][xx][xx][xx][xx]\n",
      "\n",
      "[                 Screen                 ]\n",
      "\n",
      "A [01][02]    [03][04][05][06]    [07][07]\n",
      "B [01][02]    [03][xx][xx][06]    [07][07]\n",
      "C [xx][xx]    [03][04][05][06]    [07][07]\n",
      "D [01][02]    [xx][xx][xx][xx]    [xx][07]\n",
      "E [xx][xx]    [03][04][05][06]    [07][07]\n",
      "F [01][02]    [xx][xx][xx][xx]    [xx][07]\n",
      "\n",
      "[                 Screen                 ]\n",
      "\n",
      "A [01]    [02][03][04][05][06]    [07][07]\n",
      "B [01]    [02][03][xx][xx][06]    [07][07]\n",
      "C [xx]    [xx][03][04][05][06]    [07][07]\n",
      "D [01]    [02][xx][xx][xx][xx]    [xx][07]\n",
      "E [xx]    [xx][03][04][05][06]    [07][07]\n",
      "F [01]    [02][xx][xx][xx][xx]    [xx][07]\n",
      "\n",
      "[                 Screen                 ]\n",
      "\n",
      "A [01][02][03]    [04]    [05][06][07][07]\n",
      "B [01][02][03]    [xx]    [xx][06][07][07]\n",
      "C [xx][xx][03]    [04]    [05][06][07][07]\n",
      "D [01][02][xx]    [xx]    [xx][xx][xx][07]\n",
      "E [xx][xx][03]    [04]    [05][06][07][07]\n",
      "F [01][02][xx]    [xx]    [xx][xx][xx][07]\n",
      "\n",
      "[                 Screen                 ]\n",
      "\n",
      "A [01][02][03]    [04][05][06][07]    [07]\n",
      "B [01][02][03]    [xx][xx][06][07]    [07]\n",
      "C [xx][xx][03]    [04][05][06][07]    [07]\n",
      "D [01][02][xx]    [xx][xx][xx][xx]    [07]\n",
      "E [xx][xx][03]    [04][05][06][07]    [07]\n",
      "F [01][02][xx]    [xx][xx][xx][xx]    [07]\n",
      "\n",
      "[             Screen             ]\n",
      "\n",
      "A [01][02][03][04][05][06][07][07]\n",
      "B [01][02][03][xx][xx][06][07][07]\n",
      "C [xx][xx][03][04][05][06][07][07]\n",
      "D [01][02][xx][xx][xx][xx][xx][07]\n",
      "E [xx][xx][03][04][05][06][07][07]\n",
      "F [01][02][xx][xx][xx][xx][xx][07]\n",
      "\n"
     ]
    }
   ],
   "source": [
    "\n",
    "\n",
    "\n",
    "\n",
    "\n",
    "\n"
   ]
  },
  {
   "cell_type": "code",
   "execution_count": null,
   "metadata": {},
   "outputs": [],
   "source": []
  }
 ],
 "metadata": {
  "colab": {
   "collapsed_sections": [],
   "default_view": {},
   "name": "lab7_function.ipynb",
   "provenance": [],
   "version": "0.3.2",
   "views": {}
  },
  "kernelspec": {
   "display_name": "Python 3",
   "language": "python",
   "name": "python3"
  },
  "language_info": {
   "codemirror_mode": {
    "name": "ipython",
    "version": 3
   },
   "file_extension": ".py",
   "mimetype": "text/x-python",
   "name": "python",
   "nbconvert_exporter": "python",
   "pygments_lexer": "ipython3",
   "version": "3.6.5"
  }
 },
 "nbformat": 4,
 "nbformat_minor": 1
}
